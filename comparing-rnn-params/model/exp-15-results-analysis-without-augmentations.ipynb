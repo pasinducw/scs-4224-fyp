{
 "cells": [
  {
   "cell_type": "code",
   "execution_count": 7,
   "id": "bc4b6f44-b478-4d92-a45f-f060c3a294f1",
   "metadata": {},
   "outputs": [],
   "source": [
    "import torch\n",
    "import matplotlib.pyplot as plt\n",
    "import librosa.display\n",
    "import numpy as np\n",
    "import os\n",
    "import pandas\n",
    "from dataset import getPerformancesList\n",
    "%matplotlib inline"
   ]
  },
  {
   "cell_type": "code",
   "execution_count": 8,
   "id": "2c57824a-1127-42d0-8aa5-21723ff3b0cd",
   "metadata": {},
   "outputs": [],
   "source": [
    "SNAPSHOTS_DIR = \"/home/pasinducw/Documents/research/university-work-scs-4224/comparing-rnn-params/model/model-snapshots/exp15\"\n",
    "SONGS_DIR = \"/home/pasinducw/Downloads/Research-Datasets/covers80/covers80_cqt/\""
   ]
  },
  {
   "cell_type": "code",
   "execution_count": 11,
   "id": "4e256efe-da79-4064-a877-0fa5028f4edd",
   "metadata": {},
   "outputs": [],
   "source": [
    "excluded_transforms = [\n",
    "        \"_PITCH_SHIFT_0\", \"_PITCH_SHIFT_1\", \"_PITCH_SHIFT_2\", \"_PITCH_SHIFT_3\", \"_PITCH_SHIFT_4\",\n",
    "        \"_TIME_STRETCH_0\", \"_TIME_STRETCH_1\", \"_TIME_STRETCH_2\", \"_TIME_STRETCH_3\", \"_TIME_STRETCH_4\",\n",
    "    ]\n",
    "\n",
    "# Object array of shape {song: string, name: string, path: string} containing the details of performances\n",
    "PERFORMANCES = getPerformancesList(root_dir = SONGS_DIR, excluded_transforms = excluded_transforms)"
   ]
  },
  {
   "cell_type": "code",
   "execution_count": 13,
   "id": "a677b986-3691-43af-bef0-69e13e3ba8c3",
   "metadata": {},
   "outputs": [],
   "source": [
    "# Mark excluded performances\n",
    "\n",
    "excluded_transforms = [\n",
    "    \"_PITCH_SHIFT_0\", \"_PITCH_SHIFT_1\", \"_PITCH_SHIFT_2\", \"_PITCH_SHIFT_3\", \"_PITCH_SHIFT_4\",\n",
    "    \"_PITCH_SHIFT_5\", \"_PITCH_SHIFT_6\", \"_PITCH_SHIFT_7\",\n",
    "    \"_TIME_STRETCH_0\", \"_TIME_STRETCH_1\", \"_TIME_STRETCH_2\", \"_TIME_STRETCH_3\", \"_TIME_STRETCH_4\",\n",
    "    \"_TIME_STRETCH_5\", \"_TIME_STRETCH_6\", \"_TIME_STRETCH_7\",  \"_TIME_STRETCH_8\",\n",
    "]\n",
    "for performance in PERFORMANCES:\n",
    "    name = performance['name']\n",
    "    performance['excluded'] = False\n",
    "    for suffix in excluded_transforms:\n",
    "        if name[len(name)-len(suffix):] == suffix:\n",
    "            performance['excluded'] = True"
   ]
  },
  {
   "cell_type": "code",
   "execution_count": 35,
   "id": "2a861ba0-4a15-4bfa-a0ca-5ddc8344e382",
   "metadata": {},
   "outputs": [
    {
     "name": "stdout",
     "output_type": "stream",
     "text": [
      "A_Whiter_Shade_Of_Pale annie_lennox+Medusa+03-A_Whiter_Shade_Of_Pale_WAV\n",
      "A_Whiter_Shade_Of_Pale procol_harum+Greatest_Hits+2-A_Whiter_Shade_Of_Pale_WAV\n",
      "Abracadabra steve_miller_band+Steve_Miller_Band_Live_+09-Abracadabra_WAV\n",
      "Abracadabra sugar_ray+14_59+11-Abracadabra_WAV\n",
      "Addicted_To_Love robert_palmer+Riptide+03-Addicted_To_Love_WAV\n",
      "Addicted_To_Love tina_turner+Tina_Live_In_Europe_CD_1_+09-Addicted_To_Love_WAV\n",
      "All_Along_The_Watchtower bob_dylan+Before_The_Flood_Disc_Two_+07-All_Along_the_Watchtower_WAV\n",
      "All_Along_The_Watchtower dave_matthews_band+Live_At_Red_Rocks_8_15_95_Disc_2+08-All_Along_The_Watchtower_WAV\n",
      "All_Along_The_Watchtower jimi_hendrix_experience+Electric_Ladyland+15-All_Along_The_Watchtower_WAV\n",
      "All_Along_The_Watchtower u2+Rattle_and_Hum+05-All_Along_The_Watchtower_WAV\n",
      "All_Tomorrow_s_Parties japan+Quiet_Life+06-All_Tomorrow_s_Parties_WAV\n",
      "All_Tomorrow_s_Parties velvet_underground+Andy_Warhol_with_Nico_+06-All_Tomorrow_s_Parties_WAV\n",
      "America paul_simon+Concert_in_the_Park_Disc_2+09-America_WAV\n",
      "America simon_and_garfunkel+Bookends+03-America_WAV\n",
      "Before_You_Accuse_Me creedence_clearwater_revival+Cosmo_s_Factory+02-Before_You_Accuse_Me_WAV\n",
      "Before_You_Accuse_Me eric_clapton+Unplugged+02-Before_You_Accuse_Me_WAV\n",
      "Between_The_Bars elliott_smith+Either_Or+04-Between_The_Bars_WAV\n",
      "Between_The_Bars glen_phillips+Capitol_Garage+35-Between_The_Bars_WAV\n",
      "Blue_Collar_Man reo_speedwagon+Arch_Allies_Disc_1+01-Blue_Collar_Man_WAV\n",
      "Blue_Collar_Man styx+Caught_In_The_Act_Disc_2_of_2_+02-Blue_Collar_Man_Long_Nights__WAV\n",
      "Caroline_No beach_boys+Pet_Sounds+13-Caroline_No_WAV\n",
      "Caroline_No brian_wilson+Brian_Wilson_Live_at_the_Roxy_Theater_Disc_2_+11-Caroline_No_WAV\n",
      "Cecilia paul_simon+Concert_in_the_Park_Disc_2+11-Cecilia_WAV\n",
      "Cecilia simon_and_garfunkel+Collected_Works_-_Disc_3+03-Cecilia_WAV\n",
      "Claudette everly_brothers+The_Fabulous_Style_of+01-Claudette_WAV\n",
      "Claudette roy_orbison+Black_and_White_Night+15-Claudette_WAV\n",
      "Cocaine eric_clapton+Crossroads_2_Disc_3+07-Cocaine_WAV\n",
      "Cocaine nazareth+_Snaz+08-Cocaine_WAV\n",
      "Come_Together aerosmith+Live_Bootleg+06-Come_Together_WAV\n",
      "Come_Together beatles+1+25-Come_Together_WAV\n",
      "Day_Tripper beatles+1+12-Day_Tripper_WAV\n",
      "Day_Tripper cheap_trick+Silver+13-Day_Tripper_WAV\n",
      "Don_t_Let_It_Bring_You_Down annie_lennox+Medusa+04-Don_t_Let_It_Bring_You_Down_WAV\n",
      "Don_t_Let_It_Bring_You_Down neil_young+After_the_Goldrush+07-Don_t_Let_It_Bring_You_Down_WAV\n",
      "Downtown_Lights annie_lennox+Medusa+07-Downtown_Lights_WAV\n",
      "Downtown_Lights blue_nile+Hats+02-Downtown_Lights_WAV\n",
      "Enjoy_The_Silence depeche_mode+Violator+06-Enjoy_The_Silence_WAV\n",
      "Enjoy_The_Silence tori_amos+Strange_Little_Girls+04-Enjoy_the_Silence_WAV\n",
      "Faith george_michael+Faith+01-Faith_WAV\n",
      "Faith limp_bizkit+Three_Dollar_Bill_Yall+09-Faith_WAV\n",
      "God_Only_Knows beach_boys+Pet_Sounds+08-God_Only_Knows_WAV\n",
      "God_Only_Knows brian_wilson+Brian_Wilson_Live_at_the_Roxy_Theater_Disc_2_+07-God_Only_Knows_WAV\n",
      "Gold_Dust_Woman fleetwood_mac+Rumours+11-Gold_Dust_Woman_WAV\n",
      "Gold_Dust_Woman sheryl_crow+Live_from_Central_Park+07-Gold_Dust_Woman_WAV\n",
      "Grand_Illusion reo_speedwagon+Arch_Allies_Disc_1+02-Grand_Illusion_WAV\n",
      "Grand_Illusion styx+Return_To_Paradise_Disc_2+01-Grand_Illusion_WAV\n",
      "Happiness_is_a_Warm_Gun beatles+White_Album_Disc_1+08-Happiness_is_a_Warm_Gun_WAV\n",
      "Happiness_is_a_Warm_Gun tori_amos+Strange_Little_Girls+10-Happiness_is_a_Warm_Gun_WAV\n",
      "Heart_Of_Gold neil_young+Harvest+04-Heart_Of_Gold_WAV\n",
      "Heart_Of_Gold tori_amos+Strange_Little_Girls+08-Heart_Of_Gold_WAV\n",
      "Hush deep_purple+Nobody_s_Perfect_Disc_2_2_+07-Hush_WAV\n",
      "Hush milli_vanilli+All_Or_Nothing+12-Hush_WAV\n",
      "I_Can_t_Get_Next_To_You annie_lennox+Medusa+06-I_Can_t_Get_Next_To_You_WAV\n",
      "I_Can_t_Get_Next_To_You temptations+The_Temptations_The_Ultimate_Collection+14-I_Can_t_Get_Next_To_You_WAV\n",
      "I_Can_t_Get_No_Satisfaction britney_spears+Oops_I_Did_It_Again+04-_I_Can_t_Get_No_Satisfaction_WAV\n",
      "I_Can_t_Get_No_Satisfaction rolling_stones+Big_Hits+01-_I_Can_t_Get_No_Satisfaction_WAV\n",
      "I_Don_t_Like_Mondays boomtown_rats+Best_of_the_Boomtown_Rats+10-I_Don_t_Like_Mondays_WAV\n",
      "I_Don_t_Like_Mondays tori_amos+Strange_Little_Girls+09-I_Don_t_Like_Mondays_WAV\n",
      "I_Don_t_Want_To_Miss_A_Thing aerosmith+Armageddon_Original_Soundtrack_+01-I_Don_t_Want_To_Miss_A_Thing_WAV\n",
      "I_Don_t_Want_To_Miss_A_Thing new_found_glory+From_the_Screen_to_Your_Stereo+03-I_Don_t_Want_To_Miss_A_Thing_WAV\n",
      "I_Love_You celine_dion+Falling_Into_You+09-I_Love_You_WAV\n",
      "I_Love_You faith_hill+Faith+10-I_Love_You_WAV\n",
      "I_m_Losing_You cheap_trick+Silver+08-I_m_Losing_You_WAV\n",
      "I_m_Losing_You john_lennon+Double_Fantasy+05-I_m_Losing_You_WAV\n",
      "I_m_Not_In_Love 10cc+The_Very_Best_of_10cc+07-I_m_Not_In_Love_WAV\n",
      "I_m_Not_In_Love tori_amos+Strange_Little_Girls+05-I_m_Not_In_Love_WAV\n",
      "It_s_Tricky bloodhound_gang+One_Fierce_Beer_Coaster+06-It_s_Tricky_WAV\n",
      "It_s_Tricky run_dmc+Raising_Hell+02-It_s_Tricky_WAV\n",
      "Lady reo_speedwagon+Arch_Allies_Disc_1+04-Lady_WAV\n",
      "Lady styx+Return_To_Paradise_Disc_1_+05-Lady_WAV\n",
      "Let_It_Be beatles+1+26-Let_It_Be_WAV\n",
      "Let_It_Be beatles+Let_It_Be+06-Let_It_Be_WAV\n",
      "Let_It_Be nick_cave+I_am_Sam+20-Let_It_Be_WAV\n",
      "Little_Wing corrs+Talk_on_Corners_Special_Edition+12-Little_Wing_WAV\n",
      "Little_Wing eric_clapton+Crossroads_2_Disc_1+08-Little_Wing_WAV\n",
      "Lodi creedence_clearwater_revival+Live_in_Europe+08-Lodi_WAV\n",
      "Lodi tesla+Five_Man_Acoustic_Jam+09-Lodi_WAV\n",
      "Love_Hurts heart+The_Road_Home+07-Love_Hurts_WAV\n",
      "Love_Hurts nazareth+_Snaz+15-Love_Hurts_WAV\n",
      "Maggie_s_Farm bob_dylan+Live_at_Budokan_Disc_1+06-Maggie_s_Farm_WAV\n",
      "Maggie_s_Farm rage_against_the_machine+Renegades+12-Maggie_s_Farm_WAV\n",
      "More_Than_Words extreme+The_Best_Of_Extreme+08-More_Than_Words_WAV\n",
      "More_Than_Words westlife+Westlife+13-More_Than_Words_WAV\n",
      "My_Generation green_day+Kerplunk+16-My_Generation_WAV\n",
      "My_Generation who+Who_s_Better_Who_s_Best+01-My_Generation_WAV\n",
      "My_Heart_Will_Go_On celine_dion+Au_Coer_Du_Stade+11-My_Heart_Will_Go_On_WAV\n",
      "My_Heart_Will_Go_On new_found_glory+From_the_Screen_to_Your_Stereo+07-My_Heart_Will_Go_On_WAV\n",
      "Never_Let_Me_Down_Again depeche_mode+Music_For_The_Masses+01-Never_Let_Me_Down_Again_WAV\n",
      "Never_Let_Me_Down_Again smashing_pumpkins+For_The_Masses_A_Tribute_To_Depeche_Mode+01-Never_Let_Me_Down_Again_WAV\n",
      "New_Age tori_amos+Strange_Little_Girls+01-New_Age_WAV\n",
      "New_Age velvet_underground+Loaded+05-New_Age_WAV\n",
      "Night_Time_Is_The_Right_Time aretha_franklin+Aretha_Now+04-Night_Time_Is_The_Right_Time_WAV\n",
      "Night_Time_Is_The_Right_Time creedence_clearwater_revival+The_Concert+12-Night_Time_Is_The_Right_Time_WAV\n",
      "No_Woman_No_Cry bob_marley+Live_+05-No_Woman_No_Cry_WAV\n",
      "No_Woman_No_Cry fugees+The_Score+05-No_Woman_No_Cry_WAV\n",
      "Oh_Pretty_Woman al_green+I_m_Still_In_Love_With_You+06-Oh_Pretty_Woman_WAV\n",
      "Oh_Pretty_Woman roy_orbison+Black_and_White_Night+17-Oh_Pretty_Woman_WAV\n",
      "Ooby_Dooby creedence_clearwater_revival+Cosmo_s_Factory+04-Ooby_Dooby_WAV\n",
      "Ooby_Dooby roy_orbison+Black_and_White_Night+05-Ooby_Dooby_WAV\n",
      "Proud_Mary creedence_clearwater_revival+Live_in_Europe+10-Proud_Mary_WAV\n",
      "Proud_Mary tina_turner+Tina_Live_In_Europe_CD_2_+07-Proud_Mary_WAV\n",
      "Purple_Rain leann_rimes+Sittin_On_Top_Of_The_World+15-Purple_Rain_WAV\n",
      "Purple_Rain prince+Purple_Rain+09-Purple_Rain_WAV\n",
      "Rattlesnakes lloyd_cole_and_the_commotions+Rattlesnakes+03-Rattlesnakes_WAV\n",
      "Rattlesnakes tori_amos+Strange_Little_Girls+06-Rattlesnakes_WAV\n",
      "Real_Men joe_jackson+Night_and_Day+08-Real_Men_WAV\n",
      "Real_Men tori_amos+Strange_Little_Girls+12-Real_Men_WAV\n",
      "Red_Red_Wine neil_diamond+Hot_August_Night_Disc_1+10-Red_Red_Wine_WAV\n",
      "Red_Red_Wine ub40+Labour_of_Love+06-Red_Red_Wine_WAV\n",
      "River_Deep_Mountain_High celine_dion+Falling_Into_You+12-River_Deep_Mountain_High_WAV\n",
      "River_Deep_Mountain_High tina_turner+Tina_Live_In_Europe_CD_2_+05-River_Deep_Mountain_High_WAV\n",
      "September_Gurls bangles+Different_Light+09-September_Gurls_WAV\n",
      "September_Gurls big_star+Radio_City+10-September_Gurls_WAV\n",
      "She_Came_In_Through_The_Bathroom_Window beatles+Abbey_Road+13-She_Came_In_Through_The_Bathroom_Window_WAV\n",
      "She_Came_In_Through_The_Bathroom_Window joe_cocker+Joe_Cocker_Live+12-She_Came_In_Through_The_Bathroom_Window_WAV\n",
      "Something_So_Right annie_lennox+Medusa+10-Something_So_Right_WAV\n",
      "Something_So_Right paul_simon+There_Goes_Rhymin_Simon+04-Something_So_Right_WAV\n",
      "Stone_Cold_Crazy metallica+Live_Shit_Binge_And_Purge_Disc_3_+09-Stone_Cold_Crazy_WAV\n",
      "Stone_Cold_Crazy queen+Sheer_Heart_Attack+08-Stone_Cold_Crazy_WAV\n",
      "Straight_From_The_Heart bonnie_tyler+Faster_Than_The_Speed_Of_Night+09-Straight_From_The_Heart_WAV\n",
      "Straight_From_The_Heart bryan_adams+So_Far_So_Good+02-Straight_From_The_Heart_WAV\n",
      "Strange_Little_Girl stranglers+The_UA_Singles_79-82+24-Strange_Little_Girl_WAV\n",
      "Strange_Little_Girl tori_amos+Strange_Little_Girls+03-Strange_Little_Girl_WAV\n",
      "Street_Fighting_Man rage_against_the_machine+Renegades+11-Street_Fighting_Man_WAV\n",
      "Street_Fighting_Man rolling_stones+Get_Yer_Ya-Ya_s_Out_+10-Street_Fighting_Man_WAV\n",
      "Summer_of_69 bryan_adams+Live_Live_Live_+13-Summer_of_69_WAV\n",
      "Summer_of_69 mxpx+On_The_Cover+01-Summer_of_69_WAV\n",
      "Summertime_Blues alan_jackson+Who_I_Am+01-Summertime_Blues_WAV\n",
      "Summertime_Blues beach_boys+Surfin_USA_Surfin_Safari+09-Summertime_Blues_WAV\n",
      "Take_Me_To_The_River al_green+Anthology+39-Take_Me_To_The_River_WAV\n",
      "Take_Me_To_The_River annie_lennox+Medusa+02-Take_Me_To_The_River_WAV\n",
      "Take_Me_To_The_River talking_heads+Stop_Making_Sense+09-Take_Me_To_The_River_WAV\n",
      "Take_On_Me a_ha+Hunting_High_and_Low+01-Take_On_Me_WAV\n",
      "Take_On_Me mxpx+On_The_Cover+05-Take_On_Me_WAV\n",
      "The_Boxer paul_simon+Concert_in_the_Park_Disc_2+10-The_Boxer_WAV\n",
      "The_Boxer simon_and_garfunkel+Collected_Works_Disc_3+06-The_Boxer_WAV\n",
      "Thin_Line_Between_Love_And_Hate annie_lennox+Medusa+08-Thin_Line_Between_Love_And_Hate_WAV\n",
      "Thin_Line_Between_Love_And_Hate persuaders+Thin_Line_Between_Love_Hate_Golden_Classics+01-Thin_Line_Between_Love_And_Hate_WAV\n",
      "Time tom_waits+Rain_Dogs+09-Time_WAV\n",
      "Time tori_amos+Strange_Little_Girls+07-Time_WAV\n",
      "Tomorrow_Never_Knows beatles+Revolver+14-Tomorrow_Never_Knows_WAV\n",
      "Tomorrow_Never_Knows phil_collins+Face_Value_+12-Tomorrow_Never_Knows_WAV\n",
      "Toys_In_The_Attic aerosmith+Toys_In_The_Attic+01-Toys_In_The_Attic_WAV\n",
      "Toys_In_The_Attic rem+Dead_Letter_Office+07-Toys_In_The_Attic_WAV\n",
      "Train_In_Vain annie_lennox+Medusa+05-Train_In_Vain_WAV\n",
      "Train_In_Vain clash+London_Calling+19-Train_In_Vain_WAV\n",
      "Tush nazareth+_Snaz+16-Tush_WAV\n",
      "Tush zz_top+Fandango+09-Tush_WAV\n",
      "Waiting_In_Vain annie_lennox+Medusa+09-Waiting_In_Vain_WAV\n",
      "Waiting_In_Vain bob_marley_the_wailers+Legend+10-Waiting_in_Vain_WAV\n",
      "Walk_This_Way aerosmith+A_Little_South_Of_Sanity_Disc_2_+08-Walk_This_Way_WAV\n",
      "Walk_This_Way run_dmc+Raising_Hell+04-Walk_This_Way_WAV\n",
      "Walking_After_Midnight bryan_adams+Live_Live_Live_+15-Walking_After_Midnight_WAV\n",
      "Walking_After_Midnight garth_brooks+The_Chase+05-Walking_After_Midnight_WAV\n",
      "We_Can_Work_It_Out beatles+1+13-We_Can_Work_It_Out_WAV\n",
      "We_Can_Work_It_Out tesla+Five_Man_Acoustical_Jam+04-We_Can_Work_It_Out_WAV\n",
      "What_s_Going_On cyndi_lauper+Twelve_Deadly_Cyns+09-What_s_Going_On_WAV\n",
      "What_s_Going_On marvin_gaye+Live+12-What_s_Going_On_WAV\n",
      "White_Room cream+Live_Cream_Volume_II+02-White_Room_WAV\n",
      "White_Room sheryl_crow_+Live_from_Central_Park+12-White_Room_WAV\n",
      "Wish_You_Were_Here pink_floyd+Wish_You_Were_Here+04-Wish_You_Were_Here_WAV\n",
      "Wish_You_Were_Here wyclef_jean+The_Ecleftic_2_Sides_II_A_Book+19-Wish_You_Were_Here_WAV\n",
      "Yesterday beatles+1+11-Yesterday_WAV\n",
      "Yesterday en_vogue+Funky_Divas+09-Yesterday_WAV\n"
     ]
    }
   ],
   "source": [
    "# Checking songs\n",
    "for performance in PERFORMANCES:\n",
    "    if performance['excluded'] == True:\n",
    "        continue\n",
    "    print(performance['song'], performance['name'])"
   ]
  },
  {
   "cell_type": "code",
   "execution_count": 14,
   "id": "1120f6c3-7783-4c43-bdc0-2325a5b8db8a",
   "metadata": {},
   "outputs": [],
   "source": [
    "# Array containing the songs\n",
    "SONGS = []\n",
    "for performance in PERFORMANCES:\n",
    "    SONGS.append(performance['song'])\n",
    "SONGS = np.unique(SONGS)"
   ]
  },
  {
   "cell_type": "code",
   "execution_count": 15,
   "id": "8dc13cc0-b7d6-45b1-b5a8-072ff77a86ed",
   "metadata": {},
   "outputs": [],
   "source": [
    "# Add model parameters to the PERFORMANCES objects\n",
    "# Resulting object -> { song: string, name: string, path: string, snapshot: OrderedDict, parameters: vector }\n",
    "\n",
    "for (index, performance) in enumerate(PERFORMANCES):\n",
    "    if performance['excluded'] == True:\n",
    "        continue\n",
    "    snapshot_location = os.path.join(\n",
    "        SNAPSHOTS_DIR,\n",
    "        '{}-{}'.format(index, performance['name']),\n",
    "        'snapshot-400.pytorch'\n",
    "    )\n",
    "    snapshot = torch.load(snapshot_location)['model_state_dict']\n",
    "    performance['snapshot'] = snapshot # This is an ordered dictionary with model parameters\n",
    "    \n",
    "    parameters = None\n",
    "    for key in snapshot.keys():\n",
    "        values = snapshot[key].flatten()\n",
    "        if parameters is None:\n",
    "            parameters = values\n",
    "        else:\n",
    "            parameters = torch.cat((parameters, values))\n",
    "    performance['parameters'] = parameters # This is a vector that has all the parameters of the model flattened"
   ]
  },
  {
   "cell_type": "markdown",
   "id": "3ae38156-1fa4-4796-aaa3-0edf62be8f00",
   "metadata": {},
   "source": [
    "### Computing cosine similarity"
   ]
  },
  {
   "cell_type": "code",
   "execution_count": 16,
   "id": "29c56230-ee5b-41e2-a74e-7fafca5a7aa2",
   "metadata": {},
   "outputs": [],
   "source": [
    "cos_similarity = torch.nn.CosineSimilarity(dim=1, eps=1e-6)\n",
    "\n",
    "for (base_index, base_performance) in enumerate(PERFORMANCES):\n",
    "    if base_performance['excluded'] == True:\n",
    "        continue\n",
    "    similarity_values = []\n",
    "    for (test_index, test_performance) in enumerate(PERFORMANCES):\n",
    "        if test_performance['excluded'] == True:\n",
    "            continue\n",
    "        base_params = base_performance['parameters'].unsqueeze(0)\n",
    "        test_params = test_performance['parameters'].unsqueeze(0)\n",
    "        similarity = cos_similarity(base_params, test_params).squeeze().detach().numpy()\n",
    "        similarity_values.append(similarity)\n",
    "    base_performance['similarity_values'] = np.array(similarity_values)"
   ]
  },
  {
   "cell_type": "code",
   "execution_count": 17,
   "id": "220c745d-95aa-4273-927c-338ebe3e84d2",
   "metadata": {},
   "outputs": [],
   "source": [
    "for (index, performance) in enumerate(PERFORMANCES):\n",
    "    if performance['excluded'] == True:\n",
    "        continue\n",
    "    ranks = np.argsort(-performance['similarity_values'])\n",
    "    matched_songs = []\n",
    "    for matched_performance_index in ranks:\n",
    "        matched_song_index = np.where(SONGS == PERFORMANCES[matched_performance_index]['song'])\n",
    "        matched_songs.append(matched_song_index[0][0])\n",
    "\n",
    "    performance['matched_songs'] = matched_songs"
   ]
  },
  {
   "cell_type": "code",
   "execution_count": null,
   "id": "2fbba1e0-7062-4ba6-a542-9027d1c21da8",
   "metadata": {},
   "outputs": [],
   "source": [
    "# PERFORMANCES[35]['song']\n",
    "# PERFORMANCES[1]['matched_songs']"
   ]
  },
  {
   "cell_type": "code",
   "execution_count": 18,
   "id": "a5c31a73-6d06-4cf2-96d4-19017c0d08cd",
   "metadata": {},
   "outputs": [],
   "source": [
    "def getUnique(items):\n",
    "    unique_items = []\n",
    "    for item in items:\n",
    "        already_there = False\n",
    "        for existing_item in unique_items:\n",
    "            if item == existing_item:\n",
    "                already_there = True\n",
    "        if not already_there:\n",
    "            unique_items.append(item)\n",
    "    return unique_items\n",
    "\n",
    "def calculateNextOccurrence(performance_index, drop_duplicates=False, match_key='matched_songs'):\n",
    "    relavant_song_index = PERFORMANCES[performance_index][match_key][0]\n",
    "    fetched_song_indices = np.where(PERFORMANCES[performance_index][match_key][1:] == relavant_song_index)\n",
    "    if drop_duplicates:\n",
    "        fetched_song_indices = np.where(getUnique(PERFORMANCES[performance_index][match_key][1:]) == relavant_song_index)\n",
    "    return fetched_song_indices[0][0]"
   ]
  },
  {
   "cell_type": "code",
   "execution_count": 20,
   "id": "609f83ec-91bd-4178-8d2f-a460aa12028a",
   "metadata": {},
   "outputs": [
    {
     "data": {
      "text/plain": [
       "10.042682926829269"
      ]
     },
     "execution_count": 20,
     "metadata": {},
     "output_type": "execute_result"
    }
   ],
   "source": [
    "occurrences = []\n",
    "for (index,performance) in enumerate(PERFORMANCES):\n",
    "    if performance['excluded'] == True:\n",
    "        continue\n",
    "    occurrence = calculateNextOccurrence(index)\n",
    "    occurrences.append(occurrence)\n",
    "np.average(occurrences)"
   ]
  },
  {
   "cell_type": "code",
   "execution_count": 21,
   "id": "a803f211-81a4-4b40-8b6c-3ef8d2915d09",
   "metadata": {},
   "outputs": [
    {
     "data": {
      "image/png": "[encoded data removed]",
      "text/plain": [
       "<Figure size 720x576 with 1 Axes>"
      ]
     },
     "metadata": {
      "needs_background": "light"
     },
     "output_type": "display_data"
    }
   ],
   "source": [
    "plt.figure(figsize=[10,8])\n",
    "n, bins, patches = plt.hist(x=occurrences, bins=20, color='#0504aa',alpha=0.7, rwidth=0.85)\n",
    "plt.grid(axis='y', alpha=0.75)\n",
    "plt.xlabel('Value',fontsize=15)\n",
    "plt.ylabel('Frequency',fontsize=15)\n",
    "plt.xticks(fontsize=15)\n",
    "plt.yticks(fontsize=15)\n",
    "plt.ylabel('Frequency',fontsize=15)\n",
    "plt.title('First match position',fontsize=15)\n",
    "plt.show()"
   ]
  },
  {
   "cell_type": "code",
   "execution_count": 24,
   "id": "88bbd6fd-a9c6-4d18-b6b6-da0c543b7553",
   "metadata": {},
   "outputs": [
    {
     "data": {
      "text/plain": [
       "4.414634146341464"
      ]
     },
     "execution_count": 24,
     "metadata": {},
     "output_type": "execute_result"
    }
   ],
   "source": [
    "occurrences = []\n",
    "for (index,performance) in enumerate(PERFORMANCES):\n",
    "    if performance['excluded'] == True:\n",
    "        continue\n",
    "    occurrence = calculateNextOccurrence(index, True)\n",
    "    occurrences.append(occurrence)\n",
    "np.average(occurrences)"
   ]
  },
  {
   "cell_type": "code",
   "execution_count": 25,
   "id": "37c5eec8-b1aa-4e11-8ee2-bf85ba3f70c9",
   "metadata": {},
   "outputs": [
    {
     "data": {
      "image/png": "[encoded data removed]",
      "text/plain": [
       "<Figure size 720x576 with 1 Axes>"
      ]
     },
     "metadata": {
      "needs_background": "light"
     },
     "output_type": "display_data"
    }
   ],
   "source": [
    "plt.figure(figsize=[10,8])\n",
    "n, bins, patches = plt.hist(x=occurrences, bins=20, color='#0504aa',alpha=0.7, rwidth=0.85)\n",
    "plt.grid(axis='y', alpha=0.75)\n",
    "plt.xlabel('Value',fontsize=15)\n",
    "plt.ylabel('Frequency',fontsize=15)\n",
    "plt.xticks(fontsize=15)\n",
    "plt.yticks(fontsize=15)\n",
    "plt.ylabel('Frequency',fontsize=15)\n",
    "plt.title('First Match Position (based on song)',fontsize=15)\n",
    "plt.show()"
   ]
  },
  {
   "cell_type": "markdown",
   "id": "ba49a5c9-9cf6-44b2-8163-12df8f13630c",
   "metadata": {},
   "source": [
    "# Based purely on cosine similarity"
   ]
  },
  {
   "cell_type": "code",
   "execution_count": 26,
   "id": "83668fae-9818-4d02-868e-d1b811236bac",
   "metadata": {},
   "outputs": [
    {
     "name": "stdout",
     "output_type": "stream",
     "text": [
      "5334\n"
     ]
    }
   ],
   "source": [
    "length_upper = 42 * 119 + 336\n",
    "length_lower = 0\n",
    "CQT_TOP_DROP_BINS: int = 36\n",
    "print(length_upper)"
   ]
  },
  {
   "cell_type": "code",
   "execution_count": 27,
   "id": "60b7d24d-634f-4a12-a5c8-0020a79cda69",
   "metadata": {},
   "outputs": [],
   "source": [
    "for performance in PERFORMANCES:\n",
    "    if performance['excluded'] == True:\n",
    "        continue\n",
    "    cqt = np.load(performance['path'])\n",
    "    frames = cqt\n",
    "    frames = frames.transpose()\n",
    "    frames = frames[length_lower:length_upper, :]\n",
    "    frames = frames[:, :-CQT_TOP_DROP_BINS:]\n",
    "#     maxIndices = np.argmax(frames, axis=1)\n",
    "    \n",
    "#     filteredFrames = np.zeros(frames.shape, dtype=bool)\n",
    "#     for (step, index) in enumerate(maxIndices):\n",
    "#         filteredFrames[step, index] = 1.0\n",
    "\n",
    "#     filteredFrames = filteredFrames[:, :-CQT_TOP_DROP_BINS]\n",
    "#     print(filteredFrames.shape)\n",
    "    performance['raw'] = frames.flatten()"
   ]
  },
  {
   "cell_type": "code",
   "execution_count": 28,
   "id": "f66b1976-eee5-47d2-a8bc-e5e0e71820f0",
   "metadata": {},
   "outputs": [
    {
     "name": "stderr",
     "output_type": "stream",
     "text": [
      "/tmp/ipykernel_53548/2477872529.py:10: UserWarning: Casting complex values to real discards the imaginary part (Triggered internally at  /pytorch/aten/src/ATen/native/Copy.cpp:240.)\n",
      "  base_params = torch.from_numpy(base_performance['raw']).type(torch.float32).unsqueeze(0)\n"
     ]
    }
   ],
   "source": [
    "cos_similarity = torch.nn.CosineSimilarity(dim=1, eps=1e-6)\n",
    "\n",
    "for (base_index, base_performance) in enumerate(PERFORMANCES):\n",
    "    if base_performance['excluded'] == True:\n",
    "        continue\n",
    "    similarity_values = []\n",
    "    for (test_index, test_performance) in enumerate(PERFORMANCES):\n",
    "        if test_performance['excluded'] == True:\n",
    "            continue\n",
    "        base_params = torch.from_numpy(base_performance['raw']).type(torch.float32).unsqueeze(0)\n",
    "        test_params = torch.from_numpy(test_performance['raw']).type(torch.float32).unsqueeze(0)\n",
    "        similarity = cos_similarity(base_params, test_params).squeeze().detach().numpy()\n",
    "        similarity_values.append(similarity)\n",
    "    base_performance['raw_similarity_values'] = np.array(similarity_values)"
   ]
  },
  {
   "cell_type": "code",
   "execution_count": 29,
   "id": "a987eb35-c6df-48fa-9201-7d72e6fd0dca",
   "metadata": {},
   "outputs": [],
   "source": [
    "for (index, performance) in enumerate(PERFORMANCES):\n",
    "    if performance['excluded'] == True:\n",
    "        continue\n",
    "    ranks = np.argsort(-performance['raw_similarity_values'])\n",
    "    matched_songs = []\n",
    "    for matched_performance_index in ranks:\n",
    "        matched_song_index = np.where(SONGS == PERFORMANCES[matched_performance_index]['song'])\n",
    "        matched_songs.append(matched_song_index[0][0])\n",
    "\n",
    "    performance['raw_matched_songs'] = matched_songs"
   ]
  },
  {
   "cell_type": "code",
   "execution_count": 30,
   "id": "80042412-9837-4ad0-b93c-6a8e796bdae8",
   "metadata": {},
   "outputs": [
    {
     "data": {
      "text/plain": [
       "8.689024390243903"
      ]
     },
     "execution_count": 30,
     "metadata": {},
     "output_type": "execute_result"
    }
   ],
   "source": [
    "occurrences = []\n",
    "for (index,performance) in enumerate(PERFORMANCES):\n",
    "    if performance['excluded'] == True:\n",
    "        continue\n",
    "    occurrence = calculateNextOccurrence(index, match_key='raw_matched_songs')\n",
    "    occurrences.append(occurrence)\n",
    "np.average(occurrences)"
   ]
  },
  {
   "cell_type": "code",
   "execution_count": 31,
   "id": "019f5a06-bd10-408c-a3b8-eefa3a8e94a8",
   "metadata": {},
   "outputs": [
    {
     "data": {
      "image/png": "[encoded data removed]",
      "text/plain": [
       "<Figure size 720x576 with 1 Axes>"
      ]
     },
     "metadata": {
      "needs_background": "light"
     },
     "output_type": "display_data"
    }
   ],
   "source": [
    "plt.figure(figsize=[10,8])\n",
    "n, bins, patches = plt.hist(x=occurrences, bins=20, color='#0504aa',alpha=0.7, rwidth=0.85)\n",
    "plt.grid(axis='y', alpha=0.75)\n",
    "plt.xlabel('Value',fontsize=15)\n",
    "plt.ylabel('Frequency',fontsize=15)\n",
    "plt.xticks(fontsize=15)\n",
    "plt.yticks(fontsize=15)\n",
    "plt.ylabel('Frequency',fontsize=15)\n",
    "plt.title('First match position',fontsize=15)\n",
    "plt.show()"
   ]
  },
  {
   "cell_type": "code",
   "execution_count": 32,
   "id": "1ac9cf6c-fe9f-4eaf-8765-6efed64a5afe",
   "metadata": {},
   "outputs": [
    {
     "data": {
      "text/plain": [
       "4.0426829268292686"
      ]
     },
     "execution_count": 32,
     "metadata": {},
     "output_type": "execute_result"
    }
   ],
   "source": [
    "occurrences = []\n",
    "for (index,performance) in enumerate(PERFORMANCES):\n",
    "    if performance['excluded'] == True:\n",
    "        continue\n",
    "    occurrence = calculateNextOccurrence(index, True, match_key='raw_matched_songs')\n",
    "    occurrences.append(occurrence)\n",
    "np.average(occurrences)"
   ]
  },
  {
   "cell_type": "code",
   "execution_count": 33,
   "id": "7e895378-9e44-40c7-b708-442d25a8cf8c",
   "metadata": {},
   "outputs": [
    {
     "data": {
      "image/png": "[encoded data removed]",
      "text/plain": [
       "<Figure size 720x576 with 1 Axes>"
      ]
     },
     "metadata": {
      "needs_background": "light"
     },
     "output_type": "display_data"
    }
   ],
   "source": [
    "plt.figure(figsize=[10,8])\n",
    "n, bins, patches = plt.hist(x=occurrences, bins=20, color='#0504aa',alpha=0.7, rwidth=0.85)\n",
    "plt.grid(axis='y', alpha=0.75)\n",
    "plt.xlabel('Value',fontsize=15)\n",
    "plt.ylabel('Frequency',fontsize=15)\n",
    "plt.xticks(fontsize=15)\n",
    "plt.yticks(fontsize=15)\n",
    "plt.ylabel('Frequency',fontsize=15)\n",
    "plt.title('First Match Position (based on song)',fontsize=15)\n",
    "plt.show()"
   ]
  },
  {
   "cell_type": "code",
   "execution_count": null,
   "id": "ca4b7adc-f8ce-4870-bbee-45f74982cbd6",
   "metadata": {},
   "outputs": [],
   "source": []
  }
 ],
 "metadata": {
  "kernelspec": {
   "display_name": "Python 3 (ipykernel)",
   "language": "python",
   "name": "python3"
  },
  "language_info": {
   "codemirror_mode": {
    "name": "ipython",
    "version": 3
   },
   "file_extension": ".py",
   "mimetype": "text/x-python",
   "name": "python",
   "nbconvert_exporter": "python",
   "pygments_lexer": "ipython3",
   "version": "3.8.10"
  }
 },
 "nbformat": 4,
 "nbformat_minor": 5
}

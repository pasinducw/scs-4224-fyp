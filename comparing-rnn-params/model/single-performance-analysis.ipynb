{
 "cells": [
  {
   "cell_type": "code",
   "execution_count": 2,
   "id": "9f1e5e58",
   "metadata": {},
   "outputs": [],
   "source": [
    "from dataset import Covers80DatasetPerformanceChunks\n",
    "from model import Model\n",
    "import torch\n",
    "import matplotlib.pyplot as plt\n",
    "import librosa.display\n",
    "import numpy as np\n",
    "%matplotlib inline"
   ]
  },
  {
   "cell_type": "code",
   "execution_count": 35,
   "id": "c8c07edc",
   "metadata": {},
   "outputs": [
    {
     "name": "stdout",
     "output_type": "stream",
     "text": [
      "Using only /Users/pasinduwijesena/Documents/university/research/experiments/data/covers80_cqt/A_Whiter_Shade_Of_Pale/annie_lennox+Medusa+03-A_Whiter_Shade_Of_Pale.npy\n"
     ]
    }
   ],
   "source": [
    "excluded_transforms = [\n",
    "    \"_PITCH_SHIFT_0\", \"_PITCH_SHIFT_1\", \"_PITCH_SHIFT_2\", \"_PITCH_SHIFT_3\", \"_PITCH_SHIFT_4\",\n",
    "    \"_PITCH_SHIFT_5\", \"_PITCH_SHIFT_6\", \"_PITCH_SHIFT_7\",\n",
    "    \"_TIME_STRETCH_0\", \"_TIME_STRETCH_1\", \"_TIME_STRETCH_2\", \"_TIME_STRETCH_3\", \"_TIME_STRETCH_4\",\n",
    "    \"_TIME_STRETCH_5\", \"_TIME_STRETCH_6\", \"_TIME_STRETCH_7\",  \"_TIME_STRETCH_8\",\n",
    "]\n",
    "dataset = Covers80DatasetPerformanceChunks(\n",
    "    root_dir=\"/Users/pasinduwijesena/Documents/university/research/experiments/data/covers80_cqt\", \n",
    "    excluded_transforms=excluded_transforms, \n",
    "    isolated_performance_index=0)\n",
    "dataloader = torch.utils.data.DataLoader(dataset, batch_size=100, num_workers=2, shuffle=False)"
   ]
  },
  {
   "cell_type": "code",
   "execution_count": 12,
   "id": "cf342416",
   "metadata": {},
   "outputs": [],
   "source": [
    "def plot(data):\n",
    "    data = data.transpose()\n",
    "    plt.figure(figsize=(16,8))\n",
    "    librosa.display.specshow(data, x_axis=\"time\", y_axis=\"cqt_note\")\n",
    "    plt.show() "
   ]
  },
  {
   "cell_type": "code",
   "execution_count": 13,
   "id": "059c0761",
   "metadata": {},
   "outputs": [],
   "source": [
    "def preparePlot(data, expected):\n",
    "    maximum = np.argmax(data, axis=1)\n",
    "    frames = np.zeros(data.shape, dtype=np.float32)\n",
    "    for (step, index) in enumerate(maximum):\n",
    "        frames[step,index] = 1.0\n",
    "    for (step, index) in enumerate(expected):\n",
    "        frames[step,index] += 0.5\n",
    "    return frames"
   ]
  },
  {
   "cell_type": "code",
   "execution_count": 36,
   "id": "dfd57469",
   "metadata": {},
   "outputs": [],
   "source": [
    "dataset_iter = iter(dataloader)"
   ]
  },
  {
   "cell_type": "code",
   "execution_count": 37,
   "id": "1f1c291a",
   "metadata": {},
   "outputs": [
    {
     "name": "stdout",
     "output_type": "stream",
     "text": [
      "torch.Size([100, 335, 48])\n"
     ]
    }
   ],
   "source": [
    "(X,Y) = next(dataset_iter)\n",
    "print(X.shape)"
   ]
  },
  {
   "cell_type": "code",
   "execution_count": 71,
   "id": "6f42dfa5",
   "metadata": {},
   "outputs": [
    {
     "ename": "StopIteration",
     "evalue": "",
     "output_type": "error",
     "traceback": [
      "\u001b[0;31m---------------------------------------------------------------------------\u001b[0m",
      "\u001b[0;31mStopIteration\u001b[0m                             Traceback (most recent call last)",
      "\u001b[0;32m/var/folders/g6/jr0l_z0s6_91mcf2cq7j0ttm0000gn/T/ipykernel_62302/3029535104.py\u001b[0m in \u001b[0;36m<module>\u001b[0;34m\u001b[0m\n\u001b[0;32m----> 1\u001b[0;31m \u001b[0;34m(\u001b[0m\u001b[0mX2\u001b[0m\u001b[0;34m,\u001b[0m\u001b[0mY2\u001b[0m\u001b[0;34m)\u001b[0m \u001b[0;34m=\u001b[0m \u001b[0mnext\u001b[0m\u001b[0;34m(\u001b[0m\u001b[0mdataset_iter\u001b[0m\u001b[0;34m)\u001b[0m\u001b[0;34m\u001b[0m\u001b[0;34m\u001b[0m\u001b[0m\n\u001b[0m",
      "\u001b[0;32m~/opt/anaconda3/envs/fyp/lib/python3.9/site-packages/torch/utils/data/dataloader.py\u001b[0m in \u001b[0;36m__next__\u001b[0;34m(self)\u001b[0m\n\u001b[1;32m    519\u001b[0m             \u001b[0;32mif\u001b[0m \u001b[0mself\u001b[0m\u001b[0;34m.\u001b[0m\u001b[0m_sampler_iter\u001b[0m \u001b[0;32mis\u001b[0m \u001b[0;32mNone\u001b[0m\u001b[0;34m:\u001b[0m\u001b[0;34m\u001b[0m\u001b[0;34m\u001b[0m\u001b[0m\n\u001b[1;32m    520\u001b[0m                 \u001b[0mself\u001b[0m\u001b[0;34m.\u001b[0m\u001b[0m_reset\u001b[0m\u001b[0;34m(\u001b[0m\u001b[0;34m)\u001b[0m\u001b[0;34m\u001b[0m\u001b[0;34m\u001b[0m\u001b[0m\n\u001b[0;32m--> 521\u001b[0;31m             \u001b[0mdata\u001b[0m \u001b[0;34m=\u001b[0m \u001b[0mself\u001b[0m\u001b[0;34m.\u001b[0m\u001b[0m_next_data\u001b[0m\u001b[0;34m(\u001b[0m\u001b[0;34m)\u001b[0m\u001b[0;34m\u001b[0m\u001b[0;34m\u001b[0m\u001b[0m\n\u001b[0m\u001b[1;32m    522\u001b[0m             \u001b[0mself\u001b[0m\u001b[0;34m.\u001b[0m\u001b[0m_num_yielded\u001b[0m \u001b[0;34m+=\u001b[0m \u001b[0;36m1\u001b[0m\u001b[0;34m\u001b[0m\u001b[0;34m\u001b[0m\u001b[0m\n\u001b[1;32m    523\u001b[0m             \u001b[0;32mif\u001b[0m \u001b[0mself\u001b[0m\u001b[0;34m.\u001b[0m\u001b[0m_dataset_kind\u001b[0m \u001b[0;34m==\u001b[0m \u001b[0m_DatasetKind\u001b[0m\u001b[0;34m.\u001b[0m\u001b[0mIterable\u001b[0m \u001b[0;32mand\u001b[0m\u001b[0;31m \u001b[0m\u001b[0;31m\\\u001b[0m\u001b[0;34m\u001b[0m\u001b[0;34m\u001b[0m\u001b[0m\n",
      "\u001b[0;32m~/opt/anaconda3/envs/fyp/lib/python3.9/site-packages/torch/utils/data/dataloader.py\u001b[0m in \u001b[0;36m_next_data\u001b[0;34m(self)\u001b[0m\n\u001b[1;32m   1174\u001b[0m                 \u001b[0;32mif\u001b[0m \u001b[0;32mnot\u001b[0m \u001b[0mself\u001b[0m\u001b[0;34m.\u001b[0m\u001b[0m_persistent_workers\u001b[0m\u001b[0;34m:\u001b[0m\u001b[0;34m\u001b[0m\u001b[0;34m\u001b[0m\u001b[0m\n\u001b[1;32m   1175\u001b[0m                     \u001b[0mself\u001b[0m\u001b[0;34m.\u001b[0m\u001b[0m_shutdown_workers\u001b[0m\u001b[0;34m(\u001b[0m\u001b[0;34m)\u001b[0m\u001b[0;34m\u001b[0m\u001b[0;34m\u001b[0m\u001b[0m\n\u001b[0;32m-> 1176\u001b[0;31m                 \u001b[0;32mraise\u001b[0m \u001b[0mStopIteration\u001b[0m\u001b[0;34m\u001b[0m\u001b[0;34m\u001b[0m\u001b[0m\n\u001b[0m\u001b[1;32m   1177\u001b[0m \u001b[0;34m\u001b[0m\u001b[0m\n\u001b[1;32m   1178\u001b[0m             \u001b[0;31m# Now `self._rcvd_idx` is the batch index we want to fetch\u001b[0m\u001b[0;34m\u001b[0m\u001b[0;34m\u001b[0m\u001b[0;34m\u001b[0m\u001b[0m\n",
      "\u001b[0;31mStopIteration\u001b[0m: "
     ]
    }
   ],
   "source": [
    "(X2,Y2) = next(dataset_iter)"
   ]
  },
  {
   "cell_type": "code",
   "execution_count": null,
   "id": "dae03607",
   "metadata": {},
   "outputs": [],
   "source": [
    "print(X.shape)"
   ]
  },
  {
   "cell_type": "code",
   "execution_count": 14,
   "id": "1dd6915c",
   "metadata": {},
   "outputs": [],
   "source": [
    "def getAccuracy(data, expected):\n",
    "    maximum = np.argmax(data, axis=1)\n",
    "    correct = 0.0\n",
    "    incorrect = 0.0\n",
    "    for (step, index) in enumerate(maximum):\n",
    "        if expected[step] == index:\n",
    "            correct += 1\n",
    "        else:\n",
    "            incorrect += 1\n",
    "    return (correct/ (correct+incorrect))"
   ]
  },
  {
   "cell_type": "code",
   "execution_count": 15,
   "id": "3fa86d15",
   "metadata": {},
   "outputs": [],
   "source": [
    "def evaluate(model, dataset):\n",
    "    accuracy = 0.0\n",
    "    divisor = 0\n",
    "    model = model.eval()\n",
    "    with torch.no_grad():\n",
    "        for (sequence, next_frame) in (dataset):\n",
    "            next_pred_frame = model(sequence)\n",
    "            accuracy += getAccuracy(next_pred_frame, next_frame)\n",
    "            divisor += 1\n",
    "    print(\"Accuracy: {}%\".format(100*accuracy/divisor))"
   ]
  },
  {
   "cell_type": "code",
   "execution_count": null,
   "id": "033b822f",
   "metadata": {},
   "outputs": [],
   "source": [
    "snapshots = [2,4,8,16,32,64,128,192]\n",
    "# snapshots = [2]"
   ]
  },
  {
   "cell_type": "code",
   "execution_count": null,
   "id": "034aa914",
   "metadata": {},
   "outputs": [],
   "source": [
    "# with the original training dataset\n",
    "for snapshot in snapshots:\n",
    "    snapshot_path = \"/Users/pasinduwijesena/Documents/university/research/experiments/comparing-rnn-params/model/snapshots/exp12/snapshot-{}.pytorch\".format(snapshot)\n",
    "    data =torch.load(snapshot_path)\n",
    "    model = Model(input_size=48, hidden_size=64)\n",
    "    model.load_state_dict(data['model_state_dict'])\n",
    "    \n",
    "    print(\"Evaluating with snapshot {}\".format(snapshot))\n",
    "    evaluate(model, dataloader)"
   ]
  },
  {
   "cell_type": "code",
   "execution_count": null,
   "id": "958bcfc1",
   "metadata": {},
   "outputs": [],
   "source": [
    "# with a few minor augmentations\n",
    "for snapshot in snapshots:\n",
    "    snapshot_path = \"/Users/pasinduwijesena/Documents/university/research/experiments/comparing-rnn-params/model/snapshots/exp12/snapshot-{}.pytorch\".format(snapshot)\n",
    "    data =torch.load(snapshot_path)\n",
    "    model = Model(input_size=48, hidden_size=64)\n",
    "    model.load_state_dict(data['model_state_dict'])\n",
    "    \n",
    "    print(\"Evaluating with snapshot {}\".format(snapshot))\n",
    "    evaluate(model, dataloader2)"
   ]
  },
  {
   "cell_type": "code",
   "execution_count": null,
   "id": "d2c62bb6",
   "metadata": {},
   "outputs": [],
   "source": [
    "# with all augmentations\n",
    "for snapshot in snapshots:\n",
    "    snapshot_path = \"/Users/pasinduwijesena/Documents/university/research/experiments/comparing-rnn-params/model/snapshots/exp12/snapshot-{}.pytorch\".format(snapshot)\n",
    "    data =torch.load(snapshot_path)\n",
    "    model = Model(input_size=48, hidden_size=64)\n",
    "    model.load_state_dict(data['model_state_dict'])\n",
    "    \n",
    "    print(\"Evaluating with snapshot {}\".format(snapshot))\n",
    "    evaluate(model, dataloader3)"
   ]
  }
 ],
 "metadata": {
  "kernelspec": {
   "display_name": "Python 3 (ipykernel)",
   "language": "python",
   "name": "python3"
  },
  "language_info": {
   "codemirror_mode": {
    "name": "ipython",
    "version": 3
   },
   "file_extension": ".py",
   "mimetype": "text/x-python",
   "name": "python",
   "nbconvert_exporter": "python",
   "pygments_lexer": "ipython3",
   "version": "3.8.10"
  }
 },
 "nbformat": 4,
 "nbformat_minor": 5
}

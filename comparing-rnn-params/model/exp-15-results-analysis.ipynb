{
 "cells": [
  {
   "cell_type": "code",
   "execution_count": 1,
   "id": "bc4b6f44-b478-4d92-a45f-f060c3a294f1",
   "metadata": {},
   "outputs": [],
   "source": [
    "import torch\n",
    "import matplotlib.pyplot as plt\n",
    "import librosa.display\n",
    "import numpy as np\n",
    "import os\n",
    "import pandas\n",
    "from dataset import getPerformancesList\n",
    "%matplotlib inline"
   ]
  },
  {
   "cell_type": "code",
   "execution_count": 2,
   "id": "2c57824a-1127-42d0-8aa5-21723ff3b0cd",
   "metadata": {},
   "outputs": [],
   "source": [
    "SNAPSHOTS_DIR = \"/home/pasinducw/Documents/research/university-work-scs-4224/comparing-rnn-params/model/model-snapshots/exp15\"\n",
    "SONGS_DIR = \"/home/pasinducw/Downloads/Research-Datasets/covers80/covers80_cqt/\""
   ]
  },
  {
   "cell_type": "code",
   "execution_count": 3,
   "id": "4e256efe-da79-4064-a877-0fa5028f4edd",
   "metadata": {},
   "outputs": [],
   "source": [
    "excluded_transforms = [\n",
    "        \"_PITCH_SHIFT_0\", \"_PITCH_SHIFT_1\", \"_PITCH_SHIFT_2\", \"_PITCH_SHIFT_3\", \"_PITCH_SHIFT_4\",\n",
    "        \"_TIME_STRETCH_0\", \"_TIME_STRETCH_1\", \"_TIME_STRETCH_2\", \"_TIME_STRETCH_3\", \"_TIME_STRETCH_4\",\n",
    "    ]\n",
    "\n",
    "# Object array of shape {song: string, name: string, path: string} containing the details of performances\n",
    "PERFORMANCES = getPerformancesList(root_dir = SONGS_DIR, excluded_transforms = excluded_transforms)"
   ]
  },
  {
   "cell_type": "code",
   "execution_count": 4,
   "id": "1120f6c3-7783-4c43-bdc0-2325a5b8db8a",
   "metadata": {},
   "outputs": [],
   "source": [
    "# Array containing the songs\n",
    "SONGS = []\n",
    "for performance in PERFORMANCES:\n",
    "    SONGS.append(performance['song'])\n",
    "SONGS = np.unique(SONGS)"
   ]
  },
  {
   "cell_type": "code",
   "execution_count": null,
   "id": "8dc13cc0-b7d6-45b1-b5a8-072ff77a86ed",
   "metadata": {},
   "outputs": [],
   "source": [
    "# Add model parameters to the PERFORMANCES objects\n",
    "# Resulting object -> { song: string, name: string, path: string, snapshot: OrderedDict, parameters: vector }\n",
    "\n",
    "for (index, performance) in enumerate(PERFORMANCES):\n",
    "    snapshot_location = os.path.join(\n",
    "        SNAPSHOTS_DIR,\n",
    "        '{}-{}'.format(index, performance['name']),\n",
    "        'snapshot-400.pytorch'\n",
    "    )\n",
    "    snapshot = torch.load(snapshot_location)['model_state_dict']\n",
    "    performance['snapshot'] = snapshot # This is an ordered dictionary with model parameters\n",
    "    \n",
    "    parameters = None\n",
    "    for key in snapshot.keys():\n",
    "        values = snapshot[key].flatten()\n",
    "        if parameters is None:\n",
    "            parameters = values\n",
    "        else:\n",
    "            parameters = torch.cat((parameters, values))\n",
    "    performance['parameters'] = parameters # This is a vector that has all the parameters of the model flattened"
   ]
  },
  {
   "cell_type": "markdown",
   "id": "3ae38156-1fa4-4796-aaa3-0edf62be8f00",
   "metadata": {},
   "source": [
    "### Computing cosine similarity"
   ]
  },
  {
   "cell_type": "code",
   "execution_count": 6,
   "id": "29c56230-ee5b-41e2-a74e-7fafca5a7aa2",
   "metadata": {},
   "outputs": [],
   "source": [
    "cos_similarity = torch.nn.CosineSimilarity(dim=1, eps=1e-6)\n",
    "\n",
    "for (base_index, base_performance) in enumerate(PERFORMANCES):\n",
    "    similarity_values = []\n",
    "    for (test_index, test_performance) in enumerate(PERFORMANCES):\n",
    "        base_params = base_performance['parameters'].unsqueeze(0)\n",
    "        test_params = test_performance['parameters'].unsqueeze(0)\n",
    "        similarity = cos_similarity(base_params, test_params).squeeze().detach().numpy()\n",
    "        similarity_values.append(similarity)\n",
    "    base_performance['similarity_values'] = np.array(similarity_values)"
   ]
  },
  {
   "cell_type": "code",
   "execution_count": 7,
   "id": "220c745d-95aa-4273-927c-338ebe3e84d2",
   "metadata": {},
   "outputs": [],
   "source": [
    "for (index, performance) in enumerate(PERFORMANCES):\n",
    "    ranks = np.argsort(-performance['similarity_values'])\n",
    "    matched_songs = []\n",
    "    for matched_performance_index in ranks:\n",
    "        matched_song_index = np.where(SONGS == PERFORMANCES[matched_performance_index]['song'])\n",
    "        matched_songs.append(matched_song_index[0][0])\n",
    "\n",
    "    performance['matched_songs'] = matched_songs"
   ]
  },
  {
   "cell_type": "code",
   "execution_count": null,
   "id": "2fbba1e0-7062-4ba6-a542-9027d1c21da8",
   "metadata": {},
   "outputs": [],
   "source": [
    "# PERFORMANCES[35]['song']\n",
    "# PERFORMANCES[1]['matched_songs']"
   ]
  },
  {
   "cell_type": "code",
   "execution_count": 60,
   "id": "a5c31a73-6d06-4cf2-96d4-19017c0d08cd",
   "metadata": {},
   "outputs": [],
   "source": [
    "def getUnique(items):\n",
    "    unique_items = []\n",
    "    for item in items:\n",
    "        already_there = False\n",
    "        for existing_item in unique_items:\n",
    "            if item == existing_item:\n",
    "                already_there = True\n",
    "        if not already_there:\n",
    "            unique_items.append(item)\n",
    "    return unique_items\n",
    "\n",
    "def calculateNextOccurrence(performance_index, drop_duplicates=False, match_key='matched_songs'):\n",
    "    relavant_song_index = PERFORMANCES[performance_index][match_key][0]\n",
    "    fetched_song_indices = np.where(PERFORMANCES[performance_index][match_key][1:] == relavant_song_index)\n",
    "    if drop_duplicates:\n",
    "        fetched_song_indices = np.where(getUnique(PERFORMANCES[performance_index][match_key][1:]) == relavant_song_index)\n",
    "    return fetched_song_indices[0][0]"
   ]
  },
  {
   "cell_type": "code",
   "execution_count": 21,
   "id": "609f83ec-91bd-4178-8d2f-a460aa12028a",
   "metadata": {},
   "outputs": [
    {
     "data": {
      "text/plain": [
       "133.827743902439"
      ]
     },
     "execution_count": 21,
     "metadata": {},
     "output_type": "execute_result"
    }
   ],
   "source": [
    "occurrences = []\n",
    "for (index,performance) in enumerate(PERFORMANCES):\n",
    "    occurrence = calculateNextOccurrence(index)\n",
    "    occurrences.append(occurrence)\n",
    "np.average(occurrences)"
   ]
  },
  {
   "cell_type": "code",
   "execution_count": 22,
   "id": "a803f211-81a4-4b40-8b6c-3ef8d2915d09",
   "metadata": {},
   "outputs": [
    {
     "data": {
      "image/png": "[encoded data removed]",
      "text/plain": [
       "<Figure size 720x576 with 1 Axes>"
      ]
     },
     "metadata": {
      "needs_background": "light"
     },
     "output_type": "display_data"
    }
   ],
   "source": [
    "plt.figure(figsize=[10,8])\n",
    "n, bins, patches = plt.hist(x=occurrences, bins=20, color='#0504aa',alpha=0.7, rwidth=0.85)\n",
    "plt.grid(axis='y', alpha=0.75)\n",
    "plt.xlabel('Value',fontsize=15)\n",
    "plt.ylabel('Frequency',fontsize=15)\n",
    "plt.xticks(fontsize=15)\n",
    "plt.yticks(fontsize=15)\n",
    "plt.ylabel('Frequency',fontsize=15)\n",
    "plt.title('First match position',fontsize=15)\n",
    "plt.show()"
   ]
  },
  {
   "cell_type": "code",
   "execution_count": 23,
   "id": "88bbd6fd-a9c6-4d18-b6b6-da0c543b7553",
   "metadata": {},
   "outputs": [
    {
     "data": {
      "text/plain": [
       "35.63795731707317"
      ]
     },
     "execution_count": 23,
     "metadata": {},
     "output_type": "execute_result"
    }
   ],
   "source": [
    "occurrences = []\n",
    "for (index,performance) in enumerate(PERFORMANCES):\n",
    "    occurrence = calculateNextOccurrence(index, True)\n",
    "    occurrences.append(occurrence)\n",
    "np.average(occurrences)"
   ]
  },
  {
   "cell_type": "code",
   "execution_count": 24,
   "id": "37c5eec8-b1aa-4e11-8ee2-bf85ba3f70c9",
   "metadata": {},
   "outputs": [
    {
     "data": {
      "image/png": "[encoded data removed]",
      "text/plain": [
       "<Figure size 720x576 with 1 Axes>"
      ]
     },
     "metadata": {
      "needs_background": "light"
     },
     "output_type": "display_data"
    }
   ],
   "source": [
    "plt.figure(figsize=[10,8])\n",
    "n, bins, patches = plt.hist(x=occurrences, bins=20, color='#0504aa',alpha=0.7, rwidth=0.85)\n",
    "plt.grid(axis='y', alpha=0.75)\n",
    "plt.xlabel('Value',fontsize=15)\n",
    "plt.ylabel('Frequency',fontsize=15)\n",
    "plt.xticks(fontsize=15)\n",
    "plt.yticks(fontsize=15)\n",
    "plt.ylabel('Frequency',fontsize=15)\n",
    "plt.title('First Match Position (based on song)',fontsize=15)\n",
    "plt.show()"
   ]
  },
  {
   "cell_type": "markdown",
   "id": "ba49a5c9-9cf6-44b2-8163-12df8f13630c",
   "metadata": {},
   "source": [
    "# Based purely on cosine similarity"
   ]
  },
  {
   "cell_type": "code",
   "execution_count": 52,
   "id": "83668fae-9818-4d02-868e-d1b811236bac",
   "metadata": {},
   "outputs": [
    {
     "name": "stdout",
     "output_type": "stream",
     "text": [
      "5334\n"
     ]
    }
   ],
   "source": [
    "length_upper = 42 * 119 + 336\n",
    "length_lower = 0\n",
    "CQT_TOP_DROP_BINS: int = 36\n",
    "print(length_upper)"
   ]
  },
  {
   "cell_type": "code",
   "execution_count": 55,
   "id": "60b7d24d-634f-4a12-a5c8-0020a79cda69",
   "metadata": {},
   "outputs": [],
   "source": [
    "for performance in PERFORMANCES:\n",
    "    cqt = np.load(performance['path'])\n",
    "    frames = cqt\n",
    "    frames = frames.transpose()\n",
    "    frames = frames[length_lower:length_upper, :]\n",
    "    frames = frames[:, :-CQT_TOP_DROP_BINS:]\n",
    "#     maxIndices = np.argmax(frames, axis=1)\n",
    "    \n",
    "#     filteredFrames = np.zeros(frames.shape, dtype=bool)\n",
    "#     for (step, index) in enumerate(maxIndices):\n",
    "#         filteredFrames[step, index] = 1.0\n",
    "\n",
    "#     filteredFrames = filteredFrames[:, :-CQT_TOP_DROP_BINS]\n",
    "#     print(filteredFrames.shape)\n",
    "    performance['raw'] = frames.flatten()"
   ]
  },
  {
   "cell_type": "code",
   "execution_count": 57,
   "id": "f66b1976-eee5-47d2-a8bc-e5e0e71820f0",
   "metadata": {},
   "outputs": [],
   "source": [
    "cos_similarity = torch.nn.CosineSimilarity(dim=1, eps=1e-6)\n",
    "\n",
    "for (base_index, base_performance) in enumerate(PERFORMANCES):\n",
    "    similarity_values = []\n",
    "    for (test_index, test_performance) in enumerate(PERFORMANCES):\n",
    "        base_params = torch.from_numpy(base_performance['raw']).type(torch.float32).unsqueeze(0)\n",
    "        test_params = torch.from_numpy(test_performance['raw']).type(torch.float32).unsqueeze(0)\n",
    "        similarity = cos_similarity(base_params, test_params).squeeze().detach().numpy()\n",
    "        similarity_values.append(similarity)\n",
    "    base_performance['raw_similarity_values'] = np.array(similarity_values)"
   ]
  },
  {
   "cell_type": "code",
   "execution_count": 58,
   "id": "a987eb35-c6df-48fa-9201-7d72e6fd0dca",
   "metadata": {},
   "outputs": [],
   "source": [
    "for (index, performance) in enumerate(PERFORMANCES):\n",
    "    ranks = np.argsort(-performance['raw_similarity_values'])\n",
    "    matched_songs = []\n",
    "    for matched_performance_index in ranks:\n",
    "        matched_song_index = np.where(SONGS == PERFORMANCES[matched_performance_index]['song'])\n",
    "        matched_songs.append(matched_song_index[0][0])\n",
    "\n",
    "    performance['raw_matched_songs'] = matched_songs"
   ]
  },
  {
   "cell_type": "code",
   "execution_count": 61,
   "id": "80042412-9837-4ad0-b93c-6a8e796bdae8",
   "metadata": {},
   "outputs": [
    {
     "data": {
      "text/plain": [
       "43.77439024390244"
      ]
     },
     "execution_count": 61,
     "metadata": {},
     "output_type": "execute_result"
    }
   ],
   "source": [
    "occurrences = []\n",
    "for (index,performance) in enumerate(PERFORMANCES):\n",
    "    occurrence = calculateNextOccurrence(index, match_key='raw_matched_songs')\n",
    "    occurrences.append(occurrence)\n",
    "np.average(occurrences)"
   ]
  },
  {
   "cell_type": "code",
   "execution_count": 62,
   "id": "019f5a06-bd10-408c-a3b8-eefa3a8e94a8",
   "metadata": {},
   "outputs": [
    {
     "data": {
      "image/png": "[encoded data removed]",
      "text/plain": [
       "<Figure size 720x576 with 1 Axes>"
      ]
     },
     "metadata": {
      "needs_background": "light"
     },
     "output_type": "display_data"
    }
   ],
   "source": [
    "plt.figure(figsize=[10,8])\n",
    "n, bins, patches = plt.hist(x=occurrences, bins=20, color='#0504aa',alpha=0.7, rwidth=0.85)\n",
    "plt.grid(axis='y', alpha=0.75)\n",
    "plt.xlabel('Value',fontsize=15)\n",
    "plt.ylabel('Frequency',fontsize=15)\n",
    "plt.xticks(fontsize=15)\n",
    "plt.yticks(fontsize=15)\n",
    "plt.ylabel('Frequency',fontsize=15)\n",
    "plt.title('First match position',fontsize=15)\n",
    "plt.show()"
   ]
  },
  {
   "cell_type": "code",
   "execution_count": 65,
   "id": "1ac9cf6c-fe9f-4eaf-8765-6efed64a5afe",
   "metadata": {},
   "outputs": [
    {
     "data": {
      "text/plain": [
       "23.95655487804878"
      ]
     },
     "execution_count": 65,
     "metadata": {},
     "output_type": "execute_result"
    }
   ],
   "source": [
    "occurrences = []\n",
    "for (index,performance) in enumerate(PERFORMANCES):\n",
    "    occurrence = calculateNextOccurrence(index, True, match_key='raw_matched_songs')\n",
    "    occurrences.append(occurrence)\n",
    "np.average(occurrences)"
   ]
  },
  {
   "cell_type": "code",
   "execution_count": 66,
   "id": "7e895378-9e44-40c7-b708-442d25a8cf8c",
   "metadata": {},
   "outputs": [
    {
     "data": {
      "image/png": "[encoded data removed]",
      "text/plain": [
       "<Figure size 720x576 with 1 Axes>"
      ]
     },
     "metadata": {
      "needs_background": "light"
     },
     "output_type": "display_data"
    }
   ],
   "source": [
    "plt.figure(figsize=[10,8])\n",
    "n, bins, patches = plt.hist(x=occurrences, bins=20, color='#0504aa',alpha=0.7, rwidth=0.85)\n",
    "plt.grid(axis='y', alpha=0.75)\n",
    "plt.xlabel('Value',fontsize=15)\n",
    "plt.ylabel('Frequency',fontsize=15)\n",
    "plt.xticks(fontsize=15)\n",
    "plt.yticks(fontsize=15)\n",
    "plt.ylabel('Frequency',fontsize=15)\n",
    "plt.title('First Match Position (based on song)',fontsize=15)\n",
    "plt.show()"
   ]
  },
  {
   "cell_type": "code",
   "execution_count": null,
   "id": "ca4b7adc-f8ce-4870-bbee-45f74982cbd6",
   "metadata": {},
   "outputs": [],
   "source": []
  }
 ],
 "metadata": {
  "kernelspec": {
   "display_name": "Python 3 (ipykernel)",
   "language": "python",
   "name": "python3"
  },
  "language_info": {
   "codemirror_mode": {
    "name": "ipython",
    "version": 3
   },
   "file_extension": ".py",
   "mimetype": "text/x-python",
   "name": "python",
   "nbconvert_exporter": "python",
   "pygments_lexer": "ipython3",
   "version": "3.8.10"
  }
 },
 "nbformat": 4,
 "nbformat_minor": 5
}

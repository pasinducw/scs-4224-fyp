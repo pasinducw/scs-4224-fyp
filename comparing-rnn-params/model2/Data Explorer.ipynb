{
 "cells": [
  {
   "cell_type": "code",
   "execution_count": 1,
   "id": "5b1211df",
   "metadata": {},
   "outputs": [],
   "source": [
    "from dataset import PerformanceChunks\n",
    "import torch\n",
    "\n",
    "import librosa\n",
    "import librosa.display\n",
    "import matplotlib.pyplot as plt\n",
    "import matplotlib.animation as animation\n",
    "\n",
    "import h5py"
   ]
  },
  {
   "cell_type": "code",
   "execution_count": 9,
   "id": "7be6f1c4",
   "metadata": {},
   "outputs": [],
   "source": [
    "dataset = PerformanceChunks(\n",
    "    dataset_meta_csv_path=\"/home/pasinducw/Downloads/Research-Datasets/Da-TACOS/da-tacos_metadata/da-tacos-single-performance-meta.csv\",\n",
    "    base_dir=\"/home/pasinducw/Downloads/Research-Datasets/Da-TACOS/da-tacos_coveranalysis_subset_crema\",\n",
    "    feature_type=\"crema\",\n",
    "    time_axis=1,\n",
    "    frames_per_sample=4096,\n",
    "    hop_length=128\n",
    ")\n",
    "dataloader = torch.utils.data.DataLoader(\n",
    "    dataset, batch_size=1, num_workers=0, shuffle=False)\n",
    "it = iter(dataloader)"
   ]
  },
  {
   "cell_type": "code",
   "execution_count": 10,
   "id": "6e6d0778",
   "metadata": {},
   "outputs": [
    {
     "name": "stdout",
     "output_type": "stream",
     "text": [
      "(12, 4095)\n"
     ]
    },
    {
     "data": {
      "text/plain": [
       "<matplotlib.collections.QuadMesh at 0x7f3cf2504ee0>"
      ]
     },
     "execution_count": 10,
     "metadata": {},
     "output_type": "execute_result"
    },
    {
     "data": {
      "image/png": "[encoded data removed]",
      "text/plain": [
       "<Figure size 432x288 with 1 Axes>"
      ]
     },
     "metadata": {},
     "output_type": "display_data"
    }
   ],
   "source": [
    "X,Y = next(iter(dataloader))\n",
    "X = X.squeeze()\n",
    "X = X.numpy().transpose()\n",
    "print(X.shape)\n",
    "\n",
    "librosa.display.specshow(X)"
   ]
  },
  {
   "cell_type": "code",
   "execution_count": 11,
   "id": "ab05a272",
   "metadata": {},
   "outputs": [
    {
     "data": {
      "image/png": "[encoded data removed]",
      "text/plain": [
       "<Figure size 432x288 with 1 Axes>"
      ]
     },
     "metadata": {},
     "output_type": "display_data"
    }
   ],
   "source": [
    "frames = []\n",
    "for X,Y in iter(dataloader):\n",
    "    X = X.squeeze()\n",
    "    X = X.numpy().transpose()\n",
    "    frames.append(librosa.display.specshow(X))\n"
   ]
  },
  {
   "cell_type": "markdown",
   "id": "81e745f5-870e-4092-b480-a503b4eda140",
   "metadata": {},
   "source": [
    "# Analyzing the raw data"
   ]
  },
  {
   "cell_type": "code",
   "execution_count": 31,
   "id": "0591f903-5705-4a40-9825-858b988ce5e9",
   "metadata": {},
   "outputs": [],
   "source": [
    "import h5py\n",
    "import pandas as pd\n",
    "import os\n",
    "import json"
   ]
  },
  {
   "cell_type": "code",
   "execution_count": 43,
   "id": "31ac47c1-c1f7-4cbc-a3e4-5439232745e5",
   "metadata": {},
   "outputs": [],
   "source": [
    "dataset_meta_csv_path=\"/home/pasinducw/Downloads/Research-Datasets/Da-TACOS/da-tacos_metadata/da-tacos-single-performance-meta.csv\"\n",
    "dataset_meta_csv_path=\"/home/pasinducw/Downloads/Research-Datasets/Da-TACOS/da-tacos_metadata/da-tacos_coveranalysis_subset_metadata.csv\"\n",
    "base_dir=\"/home/pasinducw/Downloads/Research-Datasets/Da-TACOS/da-tacos_coveranalysis_subset_crema\""
   ]
  },
  {
   "cell_type": "code",
   "execution_count": 46,
   "id": "a5acf9a6-c6ab-4f75-82b9-6347020675e4",
   "metadata": {},
   "outputs": [
    {
     "data": {
      "text/html": [
       "<div>\n",
       "<style scoped>\n",
       "    .dataframe tbody tr th:only-of-type {\n",
       "        vertical-align: middle;\n",
       "    }\n",
       "\n",
       "    .dataframe tbody tr th {\n",
       "        vertical-align: top;\n",
       "    }\n",
       "\n",
       "    .dataframe thead th {\n",
       "        text-align: right;\n",
       "    }\n",
       "</style>\n",
       "<table border=\"1\" class=\"dataframe\">\n",
       "  <thead>\n",
       "    <tr style=\"text-align: right;\">\n",
       "      <th></th>\n",
       "      <th>workId</th>\n",
       "      <th>performanceId</th>\n",
       "      <th>workTitle</th>\n",
       "      <th>performanceTitle</th>\n",
       "      <th>performanceArtist</th>\n",
       "      <th>releaseYear</th>\n",
       "      <th>instrumental</th>\n",
       "    </tr>\n",
       "  </thead>\n",
       "  <tbody>\n",
       "    <tr>\n",
       "      <th>0</th>\n",
       "      <td>W_163992</td>\n",
       "      <td>P_547131</td>\n",
       "      <td>Trade Winds, Trade Winds</td>\n",
       "      <td>Trade Winds, Trade Winds</td>\n",
       "      <td>Aki Aleong</td>\n",
       "      <td>1961</td>\n",
       "      <td>No</td>\n",
       "    </tr>\n",
       "    <tr>\n",
       "      <th>1</th>\n",
       "      <td>W_163992</td>\n",
       "      <td>P_547140</td>\n",
       "      <td>Trade Winds, Trade Winds</td>\n",
       "      <td>Trade Winds, Trade Winds</td>\n",
       "      <td>Dodie Stevens</td>\n",
       "      <td>1961</td>\n",
       "      <td>No</td>\n",
       "    </tr>\n",
       "    <tr>\n",
       "      <th>2</th>\n",
       "      <td>W_163629</td>\n",
       "      <td>P_544605</td>\n",
       "      <td>Ecstasy</td>\n",
       "      <td>Ecstasy</td>\n",
       "      <td>New Order</td>\n",
       "      <td>1983</td>\n",
       "      <td>No</td>\n",
       "    </tr>\n",
       "    <tr>\n",
       "      <th>3</th>\n",
       "      <td>W_163629</td>\n",
       "      <td>P_544606</td>\n",
       "      <td>Ecstasy</td>\n",
       "      <td>Ecstasy</td>\n",
       "      <td>Walls [GB]</td>\n",
       "      <td>2011</td>\n",
       "      <td>No</td>\n",
       "    </tr>\n",
       "    <tr>\n",
       "      <th>4</th>\n",
       "      <td>W_163747</td>\n",
       "      <td>P_545342</td>\n",
       "      <td>You Don't Wanna Be My Girlfriend, Phoebe</td>\n",
       "      <td>You Don't Wanna Be My Girlfriend, Phoebe</td>\n",
       "      <td>My Little Airport</td>\n",
       "      <td>2004</td>\n",
       "      <td>No</td>\n",
       "    </tr>\n",
       "    <tr>\n",
       "      <th>...</th>\n",
       "      <td>...</td>\n",
       "      <td>...</td>\n",
       "      <td>...</td>\n",
       "      <td>...</td>\n",
       "      <td>...</td>\n",
       "      <td>...</td>\n",
       "      <td>...</td>\n",
       "    </tr>\n",
       "    <tr>\n",
       "      <th>9995</th>\n",
       "      <td>W_172137</td>\n",
       "      <td>P_602149</td>\n",
       "      <td>I'm Caught Up</td>\n",
       "      <td>I'm Caught Up</td>\n",
       "      <td>Tokyo Discotheque Orchestra feat. GILLE</td>\n",
       "      <td>2015</td>\n",
       "      <td>No</td>\n",
       "    </tr>\n",
       "    <tr>\n",
       "      <th>9996</th>\n",
       "      <td>W_172584</td>\n",
       "      <td>P_735355</td>\n",
       "      <td>I Don't Believe a Word</td>\n",
       "      <td>I Don't Believe a Word</td>\n",
       "      <td>Philiae</td>\n",
       "      <td>2003</td>\n",
       "      <td>No</td>\n",
       "    </tr>\n",
       "    <tr>\n",
       "      <th>9997</th>\n",
       "      <td>W_172584</td>\n",
       "      <td>P_605044</td>\n",
       "      <td>I Don't Believe a Word</td>\n",
       "      <td>I Don't Believe a Word</td>\n",
       "      <td>Fireball Ministry</td>\n",
       "      <td>2017</td>\n",
       "      <td>No</td>\n",
       "    </tr>\n",
       "    <tr>\n",
       "      <th>9998</th>\n",
       "      <td>W_172765</td>\n",
       "      <td>P_606081</td>\n",
       "      <td>Man with the Mandolin</td>\n",
       "      <td>The Man with the Mandolin</td>\n",
       "      <td>Lew Stone and His Band</td>\n",
       "      <td>1939</td>\n",
       "      <td>No</td>\n",
       "    </tr>\n",
       "    <tr>\n",
       "      <th>9999</th>\n",
       "      <td>W_172765</td>\n",
       "      <td>P_649594</td>\n",
       "      <td>Man with the Mandolin</td>\n",
       "      <td>The Man with the Mandolin</td>\n",
       "      <td>Nick Lucas, The Singing Guitarist</td>\n",
       "      <td>1940</td>\n",
       "      <td>No</td>\n",
       "    </tr>\n",
       "  </tbody>\n",
       "</table>\n",
       "<p>10000 rows × 7 columns</p>\n",
       "</div>"
      ],
      "text/plain": [
       "        workId performanceId                                 workTitle  \\\n",
       "0     W_163992      P_547131                  Trade Winds, Trade Winds   \n",
       "1     W_163992      P_547140                  Trade Winds, Trade Winds   \n",
       "2     W_163629      P_544605                                   Ecstasy   \n",
       "3     W_163629      P_544606                                   Ecstasy   \n",
       "4     W_163747      P_545342  You Don't Wanna Be My Girlfriend, Phoebe   \n",
       "...        ...           ...                                       ...   \n",
       "9995  W_172137      P_602149                             I'm Caught Up   \n",
       "9996  W_172584      P_735355                    I Don't Believe a Word   \n",
       "9997  W_172584      P_605044                    I Don't Believe a Word   \n",
       "9998  W_172765      P_606081                     Man with the Mandolin   \n",
       "9999  W_172765      P_649594                     Man with the Mandolin   \n",
       "\n",
       "                              performanceTitle  \\\n",
       "0                     Trade Winds, Trade Winds   \n",
       "1                     Trade Winds, Trade Winds   \n",
       "2                                      Ecstasy   \n",
       "3                                      Ecstasy   \n",
       "4     You Don't Wanna Be My Girlfriend, Phoebe   \n",
       "...                                        ...   \n",
       "9995                             I'm Caught Up   \n",
       "9996                    I Don't Believe a Word   \n",
       "9997                    I Don't Believe a Word   \n",
       "9998                 The Man with the Mandolin   \n",
       "9999                 The Man with the Mandolin   \n",
       "\n",
       "                            performanceArtist releaseYear instrumental  \n",
       "0                                  Aki Aleong        1961           No  \n",
       "1                               Dodie Stevens        1961           No  \n",
       "2                                   New Order        1983           No  \n",
       "3                                  Walls [GB]        2011           No  \n",
       "4                           My Little Airport        2004           No  \n",
       "...                                       ...         ...          ...  \n",
       "9995  Tokyo Discotheque Orchestra feat. GILLE        2015           No  \n",
       "9996                                  Philiae        2003           No  \n",
       "9997                        Fireball Ministry        2017           No  \n",
       "9998                   Lew Stone and His Band        1939           No  \n",
       "9999        Nick Lucas, The Singing Guitarist        1940           No  \n",
       "\n",
       "[10000 rows x 7 columns]"
      ]
     },
     "execution_count": 46,
     "metadata": {},
     "output_type": "execute_result"
    }
   ],
   "source": [
    "dataset = pd.read_csv(dataset_meta_csv_path)\n",
    "dataset\n",
    "\n"
   ]
  },
  {
   "cell_type": "code",
   "execution_count": 89,
   "id": "9d50a407-a61d-4486-be8a-e6b5067b597c",
   "metadata": {},
   "outputs": [
    {
     "name": "stdout",
     "output_type": "stream",
     "text": [
      "['W_173442', 'P_610674', 'Faust', 'Faust', 'Annie Barbazza', '2017', 'No']\n",
      "Faust\n",
      "(12, 19198)\n"
     ]
    },
    {
     "data": {
      "text/plain": [
       "<matplotlib.collections.QuadMesh at 0x7f3cf07f6580>"
      ]
     },
     "execution_count": 89,
     "metadata": {},
     "output_type": "execute_result"
    },
    {
     "data": {
      "image/png": "[encoded data removed]",
      "text/plain": [
       "<Figure size 432x288 with 1 Axes>"
      ]
     },
     "metadata": {},
     "output_type": "display_data"
    }
   ],
   "source": [
    "entry = dataset.values.tolist()[17]\n",
    "\n",
    "work_id=entry[0]\n",
    "performance_id = entry[1]\n",
    "feature = \"crema\"\n",
    "\n",
    "feature_path = [base_dir, \"%s_%s\" % (work_id, feature), \"%s_%s.h5\" % (performance_id, feature)]\n",
    "feature_path = os.path.join(*feature_path)\n",
    "file = h5py.File(feature_path)\n",
    "\n",
    "print(entry)\n",
    "print(entry[2])\n",
    "print(file[feature].shape)\n",
    "librosa.display.specshow(file[feature])\n"
   ]
  },
  {
   "cell_type": "code",
   "execution_count": null,
   "id": "3ec4cc85-b24d-4923-9b94-821c998d0e33",
   "metadata": {},
   "outputs": [],
   "source": []
  },
  {
   "cell_type": "code",
   "execution_count": 60,
   "id": "f6898a94-cfda-46f1-8bab-87c4db393cf5",
   "metadata": {},
   "outputs": [
    {
     "data": {
      "text/plain": [
       "<matplotlib.collections.QuadMesh at 0x7f3cf0f58f40>"
      ]
     },
     "execution_count": 60,
     "metadata": {},
     "output_type": "execute_result"
    },
    {
     "data": {
      "image/png": "[encoded data removed]",
      "text/plain": [
       "<Figure size 432x288 with 1 Axes>"
      ]
     },
     "metadata": {},
     "output_type": "display_data"
    }
   ],
   "source": []
  },
  {
   "cell_type": "code",
   "execution_count": null,
   "id": "eb44083a-0d9f-4ff5-a06c-cbae8777b53f",
   "metadata": {},
   "outputs": [],
   "source": []
  }
 ],
 "metadata": {
  "kernelspec": {
   "display_name": "Python 3 (ipykernel)",
   "language": "python",
   "name": "python3"
  },
  "language_info": {
   "codemirror_mode": {
    "name": "ipython",
    "version": 3
   },
   "file_extension": ".py",
   "mimetype": "text/x-python",
   "name": "python",
   "nbconvert_exporter": "python",
   "pygments_lexer": "ipython3",
   "version": "3.8.10"
  }
 },
 "nbformat": 4,
 "nbformat_minor": 5
}

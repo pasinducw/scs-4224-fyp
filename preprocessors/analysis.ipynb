{
 "metadata": {
  "language_info": {
   "codemirror_mode": {
    "name": "ipython",
    "version": 3
   },
   "file_extension": ".py",
   "mimetype": "text/x-python",
   "name": "python",
   "nbconvert_exporter": "python",
   "pygments_lexer": "ipython3",
   "version": "3.8.10"
  },
  "orig_nbformat": 4,
  "kernelspec": {
   "name": "python3",
   "display_name": "Python 3.8.10 64-bit"
  },
  "interpreter": {
   "hash": "916dbcbb3f70747c44a77c7bcd40155683ae19c65e1c03b4aa3499c5328201f1"
  }
 },
 "nbformat": 4,
 "nbformat_minor": 2,
 "cells": [
  {
   "cell_type": "code",
   "execution_count": 5,
   "metadata": {},
   "outputs": [
    {
     "output_type": "stream",
     "name": "stdout",
     "text": [
      "The autoreload extension is already loaded. To reload it, use:\n  %reload_ext autoreload\n"
     ]
    }
   ],
   "source": [
    "import librosa\n",
    "import librosa.display\n",
    "import matplotlib.pyplot as plt\n",
    "from pydub import AudioSegment\n",
    "import numpy as np\n",
    "\n",
    "import argparse\n",
    "from time import time\n",
    "from IPython.display import Audio\n",
    "\n",
    "from utils import listDir\n",
    "\n",
    "%load_ext autoreload\n",
    "%autoreload 2"
   ]
  },
  {
   "cell_type": "code",
   "execution_count": 9,
   "metadata": {},
   "outputs": [],
   "source": [
    "%reload_ext autoreload"
   ]
  },
  {
   "cell_type": "code",
   "execution_count": 9,
   "metadata": {},
   "outputs": [
    {
     "output_type": "execute_result",
     "data": {
      "text/plain": [
       "['It_s_Tricky']"
      ]
     },
     "metadata": {},
     "execution_count": 9
    }
   ],
   "source": [
    "CQT = \"/home/pasinducw/Downloads/Research-Datasets/covers80_cqt/\"\n",
    "WAV = \"/home/pasinducw/Downloads/Research-Datasets/covers80/\"\n",
    "songsList = listDir(CQT, directoriesOnly=True)\n",
    "songsList"
   ]
  },
  {
   "cell_type": "code",
   "execution_count": 13,
   "metadata": {},
   "outputs": [
    {
     "output_type": "stream",
     "name": "stdout",
     "text": [
      "Performance: bloodhound_gang+One_Fierce_Beer_Coaster+06-It_s_Tricky_WAV_PITCH_SHIFT_2\nPerformance: run_dmc+Raising_Hell+02-It_s_Tricky_WAV_TIME_STRETCH_6\nPerformance: run_dmc+Raising_Hell+02-It_s_Tricky_WAV_TIME_STRETCH_7\nPerformance: bloodhound_gang+One_Fierce_Beer_Coaster+06-It_s_Tricky_WAV_TIME_STRETCH_3\nPerformance: run_dmc+Raising_Hell+02-It_s_Tricky_WAV_TIME_STRETCH_2\nPerformance: bloodhound_gang+One_Fierce_Beer_Coaster+06-It_s_Tricky_WAV_TIME_STRETCH_8\nPerformance: run_dmc+Raising_Hell+02-It_s_Tricky_WAV_PITCH_SHIFT_5\nPerformance: bloodhound_gang+One_Fierce_Beer_Coaster+06-It_s_Tricky_WAV_TIME_STRETCH_4\nPerformance: bloodhound_gang+One_Fierce_Beer_Coaster+06-It_s_Tricky_WAV_PITCH_SHIFT_4\nPerformance: run_dmc+Raising_Hell+02-It_s_Tricky_WAV_PITCH_SHIFT_0\nPerformance: bloodhound_gang+One_Fierce_Beer_Coaster+06-It_s_Tricky_WAV_PITCH_SHIFT_6\nPerformance: run_dmc+Raising_Hell+02-It_s_Tricky_WAV_TIME_STRETCH_0\nPerformance: run_dmc+Raising_Hell+02-It_s_Tricky_WAV_PITCH_SHIFT_6\nPerformance: run_dmc+Raising_Hell+02-It_s_Tricky_WAV_PITCH_SHIFT_4\nPerformance: bloodhound_gang+One_Fierce_Beer_Coaster+06-It_s_Tricky_WAV_TIME_STRETCH_6\nPerformance: run_dmc+Raising_Hell+02-It_s_Tricky_WAV_PITCH_SHIFT_3\nPerformance: bloodhound_gang+One_Fierce_Beer_Coaster+06-It_s_Tricky_WAV_TIME_STRETCH_5\nPerformance: bloodhound_gang+One_Fierce_Beer_Coaster+06-It_s_Tricky_WAV_TIME_STRETCH_1\nPerformance: bloodhound_gang+One_Fierce_Beer_Coaster+06-It_s_Tricky_WAV_PITCH_SHIFT_5\nPerformance: bloodhound_gang+One_Fierce_Beer_Coaster+06-It_s_Tricky_WAV_TIME_STRETCH_0\nPerformance: run_dmc+Raising_Hell+02-It_s_Tricky_WAV\nPerformance: run_dmc+Raising_Hell+02-It_s_Tricky_WAV_TIME_STRETCH_5\nPerformance: bloodhound_gang+One_Fierce_Beer_Coaster+06-It_s_Tricky_WAV_TIME_STRETCH_7\nPerformance: run_dmc+Raising_Hell+02-It_s_Tricky_WAV_PITCH_SHIFT_2\nPerformance: run_dmc+Raising_Hell+02-It_s_Tricky_WAV_PITCH_SHIFT_7\nPerformance: bloodhound_gang+One_Fierce_Beer_Coaster+06-It_s_Tricky_WAV_PITCH_SHIFT_1\nPerformance: bloodhound_gang+One_Fierce_Beer_Coaster+06-It_s_Tricky_WAV_TIME_STRETCH_2\nPerformance: run_dmc+Raising_Hell+02-It_s_Tricky_WAV_TIME_STRETCH_1\nPerformance: run_dmc+Raising_Hell+02-It_s_Tricky_WAV_PITCH_SHIFT_1\nPerformance: bloodhound_gang+One_Fierce_Beer_Coaster+06-It_s_Tricky_WAV_PITCH_SHIFT_0\nPerformance: run_dmc+Raising_Hell+02-It_s_Tricky_WAV_TIME_STRETCH_4\nPerformance: bloodhound_gang+One_Fierce_Beer_Coaster+06-It_s_Tricky_WAV\nPerformance: run_dmc+Raising_Hell+02-It_s_Tricky_WAV_TIME_STRETCH_3\nPerformance: run_dmc+Raising_Hell+02-It_s_Tricky_WAV_TIME_STRETCH_8\nPerformance: bloodhound_gang+One_Fierce_Beer_Coaster+06-It_s_Tricky_WAV_PITCH_SHIFT_3\nPerformance: bloodhound_gang+One_Fierce_Beer_Coaster+06-It_s_Tricky_WAV_PITCH_SHIFT_7\n1/1\n"
     ]
    }
   ],
   "source": [
    "progress =0\n",
    "for song in songsList:\n",
    "    performances = listDir(os.path.join(CQT, song), filesOnly=True)\n",
    "    for performanceCQT in performances:\n",
    "        performance = '.'.join(performanceCQT.split('.')[:-1])\n",
    "        performanceWAV = \"{}.wav\".format(performance)\n",
    "\n",
    "        print(performance)\n",
    "\n",
    "    progress = progress + 1\n",
    "    print(\"{}/{}\".format(progress, len(songsList)))"
   ]
  },
  {
   "cell_type": "code",
   "execution_count": null,
   "metadata": {},
   "outputs": [],
   "source": []
  }
 ]
}
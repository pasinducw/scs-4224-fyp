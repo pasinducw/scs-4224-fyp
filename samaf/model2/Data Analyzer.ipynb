{
 "cells": [
  {
   "cell_type": "code",
   "execution_count": 2,
   "metadata": {},
   "outputs": [],
   "source": [
    "import os\n",
    "import pandas as pd\n",
    "import librosa\n",
    "import librosa.display\n",
    "import matplotlib.pyplot as plt\n",
    "import matplotlib.animation as animation\n",
    "import numpy as np\n",
    "import wandb\n"
   ]
  },
  {
   "cell_type": "code",
   "execution_count": 3,
   "metadata": {},
   "outputs": [],
   "source": [
    "def load_npz_data(file, run_path):\n",
    "  ref = wandb.restore(file, run_path=run_path)\n",
    "  parsed = np.load(ref.name, allow_pickle=True)\n",
    "  os.remove(ref.name)\n",
    "  return parsed\n",
    "\n",
    "def calculate_mr1(results):\n",
    "  no_match_weight = 165\n",
    "  ranks = []\n",
    "  for (work_id, matches) in results:\n",
    "    result = np.argwhere(matches['work_id'] == str.encode(work_id)).squeeze()\n",
    "    has_result = result.shape != (0,)\n",
    "    if has_result:\n",
    "      result = result + 1\n",
    "    else:\n",
    "      result = no_match_weight\n",
    "\n",
    "    ranks.append(result)\n",
    "\n",
    "  mr1 = np.mean(ranks)\n",
    "  return mr1\n",
    "\n",
    "def calculate_accuracy(results):\n",
    "  correct = 0\n",
    "  incorrect = 0\n",
    "  for (work_id, matches) in results:\n",
    "    result = np.argwhere(matches['work_id'] == str.encode(work_id)).squeeze()\n",
    "    has_result = result.shape != (0,)\n",
    "    if has_result and result == 0:\n",
    "      correct += 1\n",
    "    else:\n",
    "      incorrect += 1\n",
    "\n",
    "  accuracy = correct/(correct+incorrect)\n",
    "  return accuracy"
   ]
  },
  {
   "cell_type": "markdown",
   "metadata": {},
   "source": [
    "### Load the data"
   ]
  },
  {
   "cell_type": "code",
   "execution_count": 16,
   "metadata": {},
   "outputs": [],
   "source": [
    "db = load_npz_data('db.npz', run_path=\"pasinducw/seq2seq-covers80-eval/2kbsx67u\")\n",
    "\n",
    "queries = [\n",
    "  [\"speed0.90\", \"pasinducw/seq2seq-covers80-eval/186mrl2e\"],\n",
    "  [\"speed0.95\", \"pasinducw/seq2seq-covers80-eval/1elqrhtn\"],\n",
    "  [\"speed0.99\", \"pasinducw/seq2seq-covers80-eval/pr3v3t6z\"],\n",
    "  [\"speed1.01\", \"pasinducw/seq2seq-covers80-eval/10knlmlq\"],\n",
    "  [\"speed1.05\", \"pasinducw/seq2seq-covers80-eval/2wxt16ox\"],\n",
    "  [\"speed1.10\", \"pasinducw/seq2seq-covers80-eval/139ynjxd\"],\n",
    "  \n",
    "  [\"pitch-4\", \"pasinducw/seq2seq-covers80-eval/10gkvmlg\"],\n",
    "  [\"pitch-3\", \"pasinducw/seq2seq-covers80-eval/35xed4uf\"],\n",
    "  [\"pitch-2\", \"pasinducw/seq2seq-covers80-eval/36dht253\"],\n",
    "  [\"pitch-1\", \"pasinducw/seq2seq-covers80-eval/2knwwhfk\"],\n",
    "  [\"pitch+1\", \"pasinducw/seq2seq-covers80-eval/23nmkjl1\"],\n",
    "  [\"pitch+2\", \"pasinducw/seq2seq-covers80-eval/6a26xmja\"],\n",
    "  [\"pitch+3\", \"pasinducw/seq2seq-covers80-eval/1zg8s438\"],\n",
    "  [\"pitch+4\", \"pasinducw/seq2seq-covers80-eval/3w5bnoyb\"],\n",
    "  \n",
    "  [\"noise0.01\", \"pasinducw/seq2seq-covers80-eval/2kbsx67u\"],\n",
    "  [\"noise0.05\", \"pasinducw/seq2seq-covers80-eval/37lw9urg\"],\n",
    "  [\"noise0.1\", \"pasinducw/seq2seq-covers80-eval/1jpriocb\"],\n",
    "  [\"noise0.2\", \"pasinducw/seq2seq-covers80-eval/1maxoicn\"],\n",
    "  [\"noise0.3\", \"pasinducw/seq2seq-covers80-eval/6n0yry0u\"],\n",
    "  [\"noise0.4\", \"pasinducw/seq2seq-covers80-eval/17qw7c03\"],\n",
    "  [\"noise0.5\", \"pasinducw/seq2seq-covers80-eval/7jf9wvok\"],\n",
    "]\n",
    "\n",
    "query_data = [(query[0], load_npz_data('query_results.npz', run_path=query[1])) for query in queries]"
   ]
  },
  {
   "cell_type": "markdown",
   "metadata": {},
   "source": [
    "## Analyze the Data"
   ]
  },
  {
   "cell_type": "code",
   "execution_count": 17,
   "metadata": {},
   "outputs": [
    {
     "name": "stdout",
     "output_type": "stream",
     "text": [
      "[speed0.90]\tAccuracy: 0.82\tMR1: 1.481707\n",
      "[speed0.95]\tAccuracy: 0.88\tMR1: 1.262195\n",
      "[speed0.99]\tAccuracy: 0.84\tMR1: 1.371951\n",
      "[speed1.01]\tAccuracy: 0.82\tMR1: 1.426829\n",
      "[speed1.05]\tAccuracy: 0.83\tMR1: 1.567073\n",
      "[speed1.10]\tAccuracy: 0.85\tMR1: 1.335366\n",
      "[pitch-4]\tAccuracy: 0.05\tMR1: 22.195122\n",
      "[pitch-3]\tAccuracy: 0.08\tMR1: 39.134146\n",
      "[pitch-2]\tAccuracy: 0.06\tMR1: 61.030488\n",
      "[pitch-1]\tAccuracy: 0.37\tMR1: 13.762195\n",
      "[pitch+1]\tAccuracy: 0.29\tMR1: 15.737805\n",
      "[pitch+2]\tAccuracy: 0.02\tMR1: 61.390244\n",
      "[pitch+3]\tAccuracy: 0.06\tMR1: 52.036585\n",
      "[pitch+4]\tAccuracy: 0.10\tMR1: 26.353659\n",
      "[noise0.01]\tAccuracy: 1.00\tMR1: 1.000000\n",
      "[noise0.05]\tAccuracy: 1.00\tMR1: 1.000000\n",
      "[noise0.1]\tAccuracy: 0.98\tMR1: 1.024390\n",
      "[noise0.2]\tAccuracy: 0.93\tMR1: 1.567073\n",
      "[noise0.3]\tAccuracy: 0.92\tMR1: 1.121951\n",
      "[noise0.4]\tAccuracy: 0.73\tMR1: 4.317073\n",
      "[noise0.5]\tAccuracy: 0.65\tMR1: 7.353659\n"
     ]
    }
   ],
   "source": [
    "for query in query_data:\n",
    "  mr1 = calculate_mr1(query[1])\n",
    "  accuracy = calculate_accuracy(query[1])\n",
    "  print(\"[%s]\\tAccuracy: %.2f\\tMR1: %f\" % (query[0], accuracy, mr1))"
   ]
  },
  {
   "cell_type": "code",
   "execution_count": null,
   "metadata": {},
   "outputs": [],
   "source": []
  }
 ],
 "metadata": {
  "interpreter": {
   "hash": "31f2aee4e71d21fbe5cf8b01ff0e069b9275f58929596ceb00d14d90e3e16cd6"
  },
  "kernelspec": {
   "display_name": "Python 3.8.10 64-bit",
   "language": "python",
   "name": "python3"
  },
  "language_info": {
   "codemirror_mode": {
    "name": "ipython",
    "version": 3
   },
   "file_extension": ".py",
   "mimetype": "text/x-python",
   "name": "python",
   "nbconvert_exporter": "python",
   "pygments_lexer": "ipython3",
   "version": "3.8.10"
  },
  "orig_nbformat": 4
 },
 "nbformat": 4,
 "nbformat_minor": 2
}

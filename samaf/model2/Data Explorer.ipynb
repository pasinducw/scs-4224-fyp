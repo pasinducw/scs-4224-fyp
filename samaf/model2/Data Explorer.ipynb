{
 "cells": [
  {
   "cell_type": "code",
   "execution_count": 1,
   "metadata": {},
   "outputs": [],
   "source": [
    "from dataset import PerformanceChunks\n",
    "import torch\n",
    "import os\n",
    "import pandas as pd\n",
    "\n",
    "import librosa\n",
    "import librosa.display\n",
    "import matplotlib.pyplot as plt\n",
    "import matplotlib.animation as animation\n",
    "\n",
    "import numpy as np\n",
    "\n",
    "from model import Model"
   ]
  },
  {
   "cell_type": "code",
   "execution_count": 2,
   "metadata": {},
   "outputs": [],
   "source": [
    "class Config:\n",
    "    def __init__(self, iterable=(), **kwargs):\n",
    "        self.__dict__.update(iterable, **kwargs)"
   ]
  },
  {
   "cell_type": "code",
   "execution_count": 5,
   "metadata": {},
   "outputs": [],
   "source": [
    "config = Config({\n",
    "    \"meta_csv\": \"/home/pasinducw/Downloads/Research-Datasets/covers80/covers80_annotations_single_1.csv\",\n",
    "    \"dataset_dir\": \"/home/pasinducw/Downloads/Research-Datasets/covers80/covers80_features\",\n",
    "    \"feature_type\": \"cqt\",\n",
    "    \"time_axis\": 1,\n",
    "    \"hop_length\": 42,\n",
    "    \"frames_per_sample\": 64,\n",
    "    \"dataset_cache_limit\": 80,\n",
    "    \"workers\": 1,\n",
    "    \"device\": \"cpu\",\n",
    "    \"input_size\": 84,\n",
    "    \"hidden_size\": 128,\n",
    "    \"batch_size\": 1024,\n",
    "    \"model_layers\": 2,\n",
    "})"
   ]
  },
  {
   "cell_type": "code",
   "execution_count": 6,
   "metadata": {},
   "outputs": [
    {
     "name": "stdout",
     "output_type": "stream",
     "text": [
      "FREQUENCY IS  0.01179245283018868\n",
      "Input  torch.Size([100, 64, 84])\n",
      "Embeddings  torch.Size([100, 128])\n",
      "Decoder Input 0 torch.Size([100, 1, 84])\n",
      "Decoder state torch.Size([2, 100, 128]) torch.Size([2, 100, 128])\n",
      "Decoder outputs  torch.Size([100, 64, 84])\n",
      "With random decoder inputs\n",
      "torch.Size([100, 64, 84])\n"
     ]
    },
    {
     "data": {
      "text/plain": [
       "<matplotlib.collections.QuadMesh at 0x7efd8de3edc0>"
      ]
     },
     "execution_count": 6,
     "metadata": {},
     "output_type": "execute_result"
    },
    {
     "data": {
      "image/png": "[encoded data removed]",
      "text/plain": [
       "<Figure size 432x288 with 1 Axes>"
      ]
     },
     "metadata": {},
     "output_type": "display_data"
    }
   ],
   "source": [
    "dataset = PerformanceChunks(\n",
    "    dataset_meta_csv_path=config.meta_csv,\n",
    "    base_dir=config.dataset_dir,\n",
    "    feature_type=config.feature_type,\n",
    "    time_axis=config.time_axis,\n",
    "    hop_length=config.hop_length,\n",
    "    frames_per_sample=config.frames_per_sample,\n",
    "    cache_limit=config.dataset_cache_limit\n",
    ")\n",
    "dataloader = torch.utils.data.DataLoader(\n",
    "    dataset, batch_size=config.batch_size, num_workers=config.workers, shuffle=False)\n",
    "\n",
    "device = torch.device(config.device)\n",
    "model = Model(input_size=config.input_size, layers=config.model_layers, share_weights=False,\n",
    "              embedding_size=config.hidden_size).to(device)\n",
    "\n",
    "model.train()\n",
    "\n",
    "for i, (sequence) in enumerate(dataloader):\n",
    "    sequence = sequence.to(device)\n",
    "    (embeddings, pred) = model(sequence)\n",
    "    print(pred.shape)\n",
    "\n",
    "source = sequence[0] # pred[0]\n",
    "data=source.detach().numpy().transpose()\n",
    "librosa.display.specshow(data)"
   ]
  },
  {
   "cell_type": "code",
   "execution_count": 9,
   "metadata": {},
   "outputs": [
    {
     "data": {
      "text/plain": [
       "tensor([[ 0.0000e+00, -1.0000e+03, -1.0000e+03],\n",
       "        [-1.5514e+00, -5.5144e-01, -1.5514e+00],\n",
       "        [-1.5514e+00, -1.5514e+00, -5.5144e-01]])"
      ]
     },
     "execution_count": 9,
     "metadata": {},
     "output_type": "execute_result"
    }
   ],
   "source": [
    "# LogSoftmax dimension test\n",
    "d = torch.tensor([[1000.,0.,0.], [0.,1.,0.], [0.,0.,1.]])\n",
    "m = torch.nn.LogSoftmax(dim=1)\n",
    "m(d)"
   ]
  },
  {
   "cell_type": "code",
   "execution_count": null,
   "metadata": {},
   "outputs": [],
   "source": [
    "# Sine wave generation\n",
    "cqt_coefficients, samples = 84, 4200\n",
    "freq = 5/4200\n",
    "\n",
    "steps = np.linspace(0, samples, samples, endpoint=False)\n",
    "wave = np.sin(2 * np.pi * freq * steps)\n",
    "\n",
    "wave = ((wave + 1.0) * ((cqt_coefficients-1)/2))\n",
    "wave = np.floor(wave).astype(int)\n",
    "plot = np.zeros((cqt_coefficients, samples))\n",
    "\n",
    "for (index, value) in enumerate(wave):\n",
    "  plot[value, index] = 1.0\n",
    "\n",
    "librosa.display.specshow(plot)\n"
   ]
  },
  {
   "cell_type": "code",
   "execution_count": 9,
   "metadata": {},
   "outputs": [],
   "source": [
    "# Pytorch View test\n",
    "d = torch.tensor([[[1,2,4], [8, 16, 32]], [[64,128, 256], [512, 1024, 2048]]])"
   ]
  },
  {
   "cell_type": "code",
   "execution_count": 12,
   "metadata": {},
   "outputs": [
    {
     "data": {
      "text/plain": [
       "tensor([[[   1,    2,    4],\n",
       "         [   8,   16,   32]],\n",
       "\n",
       "        [[  64,  128,  256],\n",
       "         [ 512, 1024, 2048]]])"
      ]
     },
     "execution_count": 12,
     "metadata": {},
     "output_type": "execute_result"
    }
   ],
   "source": [
    "d\n"
   ]
  },
  {
   "cell_type": "code",
   "execution_count": 13,
   "metadata": {},
   "outputs": [
    {
     "data": {
      "text/plain": [
       "tensor([[   1,    2,    4],\n",
       "        [   8,   16,   32],\n",
       "        [  64,  128,  256],\n",
       "        [ 512, 1024, 2048]])"
      ]
     },
     "execution_count": 13,
     "metadata": {},
     "output_type": "execute_result"
    }
   ],
   "source": [
    "d.view(-1, 3)"
   ]
  },
  {
   "cell_type": "code",
   "execution_count": 14,
   "metadata": {},
   "outputs": [
    {
     "data": {
      "text/plain": [
       "tensor([[   1,    2,    4],\n",
       "        [   8,   16,   32],\n",
       "        [  64,  128,  256],\n",
       "        [ 512, 1024, 2048]])"
      ]
     },
     "execution_count": 14,
     "metadata": {},
     "output_type": "execute_result"
    }
   ],
   "source": [
    "d.view(-1, d.shape[-1])"
   ]
  },
  {
   "cell_type": "code",
   "execution_count": 18,
   "metadata": {},
   "outputs": [],
   "source": [
    "def test(a):\n",
    "  b = a*a\n",
    "  def test2(v):\n",
    "    return v * b\n",
    "  return test2\n"
   ]
  },
  {
   "cell_type": "code",
   "execution_count": 19,
   "metadata": {},
   "outputs": [],
   "source": [
    "fn = test(10)"
   ]
  },
  {
   "cell_type": "code",
   "execution_count": 20,
   "metadata": {},
   "outputs": [
    {
     "data": {
      "text/plain": [
       "1000"
      ]
     },
     "execution_count": 20,
     "metadata": {},
     "output_type": "execute_result"
    }
   ],
   "source": [
    "fn(10)"
   ]
  },
  {
   "cell_type": "markdown",
   "metadata": {},
   "source": [
    "# Evaluator Tests"
   ]
  },
  {
   "cell_type": "code",
   "execution_count": 3,
   "metadata": {},
   "outputs": [],
   "source": [
    "config = Config({\n",
    "    \"reference_csv\": \"/home/pasinducw/Downloads/Research-Datasets/covers80/covers80_annotations.csv\",\n",
    "    \"query_csv\": \"/home/pasinducw/Downloads/Research-Datasets/covers80/covers80_annotations_single_1.csv\",\n",
    "    \"dataset_dir\": \"/home/pasinducw/Downloads/Research-Datasets/covers80/covers80_features\",\n",
    "    \"feature_type\": \"cqt\",\n",
    "    \"time_axis\": 1,\n",
    "    \"hop_length\": 42,\n",
    "    \"frames_per_sample\": 64,\n",
    "    \"dataset_cache_limit\": 80,\n",
    "    \"workers\": 1,\n",
    "    \"device\": \"cpu\",\n",
    "    \"input_size\": 84,\n",
    "    \"hidden_size\": 128,\n",
    "    \"batch_size\": 512,\n",
    "    \"model_layers\": 2,\n",
    "})"
   ]
  },
  {
   "cell_type": "code",
   "execution_count": 4,
   "metadata": {},
   "outputs": [],
   "source": [
    "def get_hashes_dict(model, dataloader, device, hash_fn):\n",
    "    model.eval()\n",
    "    db = dict()\n",
    "\n",
    "    with torch.no_grad():\n",
    "        for (sequence, sequence_indices, work_id, track_id) in dataloader:\n",
    "            sequence = sequence.to(device)\n",
    "            embeddings = model(sequence)\n",
    "\n",
    "            # convert the embeddings to hashes\n",
    "            hashes = hash_fn(embeddings.detach().numpy())\n",
    "\n",
    "            # save the hashes\n",
    "            for (index, hash) in enumerate(hashes):\n",
    "                if hash not in db:\n",
    "                    db[hash] = []\n",
    "                db[hash].append((work_id[index], track_id[index], hash))\n",
    "\n",
    "    return db\n",
    "\n",
    "\n",
    "def build_hash_fn(pivot=0.0):\n",
    "    def threshold(value):\n",
    "        if value > pivot:\n",
    "            return True\n",
    "        return False\n",
    "    vectorized_threshold = np.vectorize(threshold)\n",
    "\n",
    "    def hash_fn(embeddings):\n",
    "        # embeddings -> [batch_size, hidden_size]\n",
    "        batch_size, hidden_size = embeddings.shape\n",
    "        \n",
    "        boolean_values = vectorized_threshold(embeddings).astype(bool)\n",
    "        hashes = np.zeros(batch_size)\n",
    "\n",
    "        for row in range(batch_size):\n",
    "            hash = 0.0\n",
    "            for (index, value) in enumerate(boolean_values[row]):\n",
    "                if value == True:\n",
    "                    hash += 1 << index\n",
    "            hashes[row] = hash\n",
    "\n",
    "        return hashes\n",
    "    return hash_fn\n"
   ]
  },
  {
   "cell_type": "code",
   "execution_count": 5,
   "metadata": {},
   "outputs": [
    {
     "data": {
      "text/plain": [
       "<All keys matched successfully>"
      ]
     },
     "execution_count": 5,
     "metadata": {},
     "output_type": "execute_result"
    }
   ],
   "source": [
    "device = torch.device(config.device)\n",
    "model = Model(\n",
    "  input_size=config.input_size, share_weights=True, \n",
    "  embedding_size=config.hidden_size\n",
    ").to(device)\n",
    "\n",
    "path = \"/home/pasinducw/Documents/research/university-work-scs-4224/samaf/model2/snapshots/cross_entropy_exp1\"\n",
    "model_snapshot = torch.load(\n",
    "  os.path.join(path, \"model.pth\"), map_location=device\n",
    ")\n",
    "model.load_state_dict(model_snapshot[\"model\"])"
   ]
  },
  {
   "cell_type": "code",
   "execution_count": 6,
   "metadata": {},
   "outputs": [],
   "source": [
    "def build_reference_db(model, device, config):\n",
    "    # Implement\n",
    "    reference_dataset = PerformanceChunks(\n",
    "        dataset_meta_csv_path=config.reference_csv,\n",
    "        base_dir=config.dataset_dir,\n",
    "        feature_type=config.feature_type,\n",
    "        time_axis=config.time_axis,\n",
    "        hop_length=config.hop_length,\n",
    "        frames_per_sample=config.frames_per_sample,\n",
    "        cache_limit=config.dataset_cache_limit,\n",
    "    )\n",
    "    reference_dataloader = torch.utils.data.DataLoader(\n",
    "        reference_dataset, batch_size=config.batch_size, num_workers=config.workers, shuffle=False,\n",
    "    )\n",
    "\n",
    "    reference_db = get_hashes_dict(\n",
    "        model, reference_dataloader, device, build_hash_fn(0.0))\n",
    "    return reference_db"
   ]
  },
  {
   "cell_type": "code",
   "execution_count": 7,
   "metadata": {},
   "outputs": [],
   "source": [
    "ref = build_reference_db(model, device, config)"
   ]
  },
  {
   "cell_type": "code",
   "execution_count": 8,
   "metadata": {},
   "outputs": [
    {
     "data": {
      "text/plain": [
       "24293"
      ]
     },
     "execution_count": 8,
     "metadata": {},
     "output_type": "execute_result"
    }
   ],
   "source": [
    "len(ref.keys())"
   ]
  },
  {
   "cell_type": "markdown",
   "metadata": {},
   "source": [
    "### Query using the reference database"
   ]
  },
  {
   "cell_type": "code",
   "execution_count": 23,
   "metadata": {},
   "outputs": [],
   "source": [
    "config.dataset_dir = \"/home/pasinducw/Downloads/Research-Datasets/covers80/covers80_features-pitch1\"\n",
    "reference_db = ref\n",
    "query_tracks = pd.read_csv(config.query_csv).values.tolist()"
   ]
  },
  {
   "cell_type": "code",
   "execution_count": 24,
   "metadata": {},
   "outputs": [],
   "source": [
    "for [work_id, track_id] in query_tracks:\n",
    "    query_dataset = PerformanceChunks(\n",
    "        dataset_meta_csv_path=config.query_csv,\n",
    "        base_dir=config.dataset_dir,\n",
    "        feature_type=config.feature_type,\n",
    "        time_axis=config.time_axis,\n",
    "        hop_length=2, # config.hop_length,\n",
    "        frames_per_sample=config.frames_per_sample,\n",
    "        cache_limit=config.dataset_cache_limit,\n",
    "        work_id=work_id,\n",
    "        track_id=track_id,\n",
    "    )\n",
    "\n",
    "    query_dataloader = torch.utils.data.DataLoader(\n",
    "        query_dataset, batch_size=config.batch_size, num_workers=config.workers, shuffle=False,\n",
    "    )\n",
    "\n",
    "    query_hashes = get_hashes_dict(\n",
    "        model, query_dataloader, device, build_hash_fn(0.0),\n",
    "    ).keys()\n",
    "\n",
    "    # Find the matches\n",
    "    matches = dict()\n",
    "    \n",
    "    no_match_count = 0\n",
    "    match_count = 0\n",
    "\n",
    "    for hash in query_hashes:\n",
    "        matched_entries = []\n",
    "        if hash in reference_db:\n",
    "            matched_entries = reference_db[hash]\n",
    "            match_count += 1\n",
    "        else:\n",
    "            no_match_count += 1\n",
    "\n",
    "        for (matched_work_id, matched_track_id, matched_hash) in matched_entries:\n",
    "            if matched_work_id not in matches:\n",
    "                matches[matched_work_id] = 0\n",
    "            matches[matched_work_id] += 1\n",
    "    matches_list = []\n",
    "    for matched_work_id in matches.keys():\n",
    "        matches_list.append((matched_work_id, matches[matched_work_id]))\n",
    "    \n",
    "    dtype = [('work_id', 'S128'), ('matches', int)]\n",
    "    matches_list = np.array(matches_list, dtype=dtype)\n",
    "    matches_list = np.sort(matches_list, order='matches')\n",
    "    matches_list = np.flip(matches_list)\n"
   ]
  },
  {
   "cell_type": "code",
   "execution_count": 25,
   "metadata": {},
   "outputs": [
    {
     "name": "stdout",
     "output_type": "stream",
     "text": [
      "406 1111\n"
     ]
    }
   ],
   "source": [
    "print(match_count, no_match_count)"
   ]
  },
  {
   "cell_type": "code",
   "execution_count": 26,
   "metadata": {},
   "outputs": [
    {
     "data": {
      "text/plain": [
       "array([(b'Maggie_s_Farm', 68), (b'Stone_Cold_Crazy', 37),\n",
       "       (b'Abracadabra', 32), (b'Addicted_To_Love', 30),\n",
       "       (b'Claudette', 27), (b'Summer_of_69', 26), (b'Grand_Illusion', 26),\n",
       "       (b'Blue_Collar_Man', 25), (b'Walking_After_Midnight', 22),\n",
       "       (b'Ooby_Dooby', 22), (b'All_Along_The_Watchtower', 21),\n",
       "       (b'What_s_Going_On', 20), (b'Walk_This_Way', 19),\n",
       "       (b'More_Than_Words', 18), (b'I_Can_t_Get_Next_To_You', 18),\n",
       "       (b'I_Don_t_Like_Mondays', 17), (b'Before_You_Accuse_Me', 17),\n",
       "       (b'Yesterday', 16), (b'White_Room', 16),\n",
       "       (b'Something_So_Right', 16), (b'River_Deep_Mountain_High', 15),\n",
       "       (b'Night_Time_Is_The_Right_Time', 15), (b'God_Only_Knows', 15),\n",
       "       (b'Love_Hurts', 13), (b'Lady', 13), (b'My_Generation', 12),\n",
       "       (b'Happiness_is_a_Warm_Gun', 12), (b'Enjoy_The_Silence', 12),\n",
       "       (b'Purple_Rain', 11), (b'Day_Tripper', 11),\n",
       "       (b'A_Whiter_Shade_Of_Pale', 11), (b'Wish_You_Were_Here', 10),\n",
       "       (b'My_Heart_Will_Go_On', 10), (b'Real_Men',  9), (b'Lodi',  9),\n",
       "       (b'I_Can_t_Get_No_Satisfaction',  9), (b'Come_Together',  9),\n",
       "       (b'Train_In_Vain',  8), (b'Proud_Mary',  8),\n",
       "       (b'No_Woman_No_Cry',  7), (b'I_m_Not_In_Love',  7),\n",
       "       (b'America',  7), (b'Toys_In_The_Attic',  6), (b'Time',  6),\n",
       "       (b'She_Came_In_Through_The_Bathroom_Window',  6),\n",
       "       (b'Let_It_Be',  6), (b'I_Don_t_Want_To_Miss_A_Thing',  6),\n",
       "       (b'Caroline_No',  6), (b'The_Boxer',  5),\n",
       "       (b'Take_Me_To_The_River',  5), (b'Summertime_Blues',  5),\n",
       "       (b'Never_Let_Me_Down_Again',  5), (b'I_Love_You',  5),\n",
       "       (b'Hush',  5), (b'Heart_Of_Gold',  5), (b'Gold_Dust_Woman',  5),\n",
       "       (b'Faith',  5), (b'Take_On_Me',  4), (b'Red_Red_Wine',  4),\n",
       "       (b'Little_Wing',  4), (b'It_s_Tricky',  4), (b'Cecilia',  4),\n",
       "       (b'We_Can_Work_It_Out',  3), (b'Straight_From_The_Heart',  3),\n",
       "       (b'I_m_Losing_You',  3), (b'Cocaine',  3), (b'Tush',  2),\n",
       "       (b'Thin_Line_Between_Love_And_Hate',  2), (b'September_Gurls',  2),\n",
       "       (b'Oh_Pretty_Woman',  2), (b'Downtown_Lights',  2),\n",
       "       (b'Between_The_Bars',  2), (b'All_Tomorrow_s_Parties',  2),\n",
       "       (b'Waiting_In_Vain',  1), (b'Tomorrow_Never_Knows',  1),\n",
       "       (b'Street_Fighting_Man',  1), (b'Rattlesnakes',  1),\n",
       "       (b'New_Age',  1), (b'Don_t_Let_It_Bring_You_Down',  1)],\n",
       "      dtype=[('work_id', 'S128'), ('matches', '<i8')])"
      ]
     },
     "execution_count": 26,
     "metadata": {},
     "output_type": "execute_result"
    }
   ],
   "source": [
    "matches_list"
   ]
  },
  {
   "cell_type": "code",
   "execution_count": 71,
   "metadata": {},
   "outputs": [
    {
     "name": "stdout",
     "output_type": "stream",
     "text": [
      "447 1127\n"
     ]
    }
   ],
   "source": [
    "print(match_count, no_match_count)"
   ]
  },
  {
   "cell_type": "code",
   "execution_count": 73,
   "metadata": {},
   "outputs": [
    {
     "data": {
      "text/plain": [
       "79"
      ]
     },
     "execution_count": 73,
     "metadata": {},
     "output_type": "execute_result"
    }
   ],
   "source": [
    "matches_list"
   ]
  },
  {
   "cell_type": "code",
   "execution_count": null,
   "metadata": {},
   "outputs": [],
   "source": []
  }
 ],
 "metadata": {
  "interpreter": {
   "hash": "31f2aee4e71d21fbe5cf8b01ff0e069b9275f58929596ceb00d14d90e3e16cd6"
  },
  "kernelspec": {
   "display_name": "Python 3.8.10 64-bit",
   "language": "python",
   "name": "python3"
  },
  "language_info": {
   "codemirror_mode": {
    "name": "ipython",
    "version": 3
   },
   "file_extension": ".py",
   "mimetype": "text/x-python",
   "name": "python",
   "nbconvert_exporter": "python",
   "pygments_lexer": "ipython3",
   "version": "3.8.10"
  },
  "orig_nbformat": 4
 },
 "nbformat": 4,
 "nbformat_minor": 2
}

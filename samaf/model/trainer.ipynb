{
 "cells": [
  {
   "cell_type": "code",
   "execution_count": 1,
   "metadata": {},
   "outputs": [],
   "source": [
    "import copy\n",
    "import math\n",
    "import os\n",
    "\n",
    "import torch\n",
    "from torch.utils.data import DataLoader\n",
    "\n",
    "import numpy as np\n",
    "import matplotlib.pyplot as plt\n",
    "\n",
    "import librosa\n",
    "import librosa.display\n",
    "\n",
    "from SAMAF import SAMAF\n",
    "from SinhalaSongsDataset import SinhalaSongsDataset"
   ]
  },
  {
   "cell_type": "markdown",
   "metadata": {},
   "source": [
    "### Utility Methods"
   ]
  },
  {
   "cell_type": "code",
   "execution_count": 31,
   "metadata": {},
   "outputs": [],
   "source": [
    "def draw_mfccs(*mfccs):\n",
    "    plots = len(mfccs)\n",
    "\n",
    "    plt.figure()\n",
    "    for i, mfcc in enumerate(mfccs):\n",
    "        plt.subplot(1, plots, i+1)\n",
    "        librosa.display.specshow(mfcc.transpose(0,1).numpy(), x_axis=\"time\")\n",
    "        plt.title(\"MFCC\")\n",
    "        plt.tight_layout()\n",
    "    plt.colorbar()\n",
    "    "
   ]
  },
  {
   "cell_type": "markdown",
   "metadata": {},
   "source": [
    "## Trainer"
   ]
  },
  {
   "cell_type": "code",
   "execution_count": null,
   "metadata": {},
   "outputs": [],
   "source": [
    "def train_model(train_dataset, validation_dataset, epochs, device, embedding_dimension=128, save_path=\"\", start_state=None):\n",
    "    \n",
    "    def mseLoss(pred, true):\n",
    "        return torch.nn.functional.mse_loss(pred, true)\n",
    "    \n",
    "    def hashLoss(embeddings):\n",
    "        embeddings_repeated_1 = embeddings.repeat(1, embeddings.shape[1], 1) # [1,2,3] => [1,1,2,2,3,3]\n",
    "        embeddings_repeated_2 = embeddings.repeat_interleave(embeddings.shape[1], dim=1) # [1,2,3] => [1,2,3,1,2,3]\n",
    "        cosine_similarity = torch.nn.functional.cosine_similarity(embeddings_repeated_1, embeddings_repeated_2, dim=2)\n",
    "        # print(\"Cosine similarity values\", cosine_similarity.shape)\n",
    "\n",
    "        cosine_similarity = cosine_similarity.view(-1, embeddings.shape[1], embeddings.shape[1])\n",
    "        multiplier = (torch.ones(embeddings.shape[1]) - torch.eye(embeddings.shape[1])).unsqueeze(0)\n",
    "        cosine_similarity = cosine_similarity * multiplier * (1/0.55)\n",
    "        cosine_similarity[cosine_similarity < 0] = 0.0\n",
    "        cosine_similarity[cosine_similarity > 1] = 1.0\n",
    "        # print(\"Cosine similarity values\", cosine_similarity.shape)\n",
    "        # print(cosine_similarity[0])\n",
    "\n",
    "        l2_norm = torch.linalg.norm(embeddings.unsqueeze(1)-embeddings.unsqueeze(2), ord=2, dim=3)\n",
    "        l2_norm_squared = torch.square(l2_norm)\n",
    "        # print(\"Squared L2 Norm \", l2_norm_squared.shape)\n",
    "\n",
    "        neumerator = torch.sum(cosine_similarity * l2_norm_squared, dim=(1,2))\n",
    "        # print(\"Neumerator \", neumerator.shape)\n",
    "\n",
    "        denominator = torch.count_nonzero(cosine_similarity.detach(), dim=(1,2))\n",
    "        # print(\"Denominator \", denominator.shape)\n",
    "\n",
    "        return torch.mean(neumerator / denominator)\n",
    "    \n",
    "    def bitwiseEntropyLoss(embeddings):\n",
    "        # TODO: Implement\n",
    "        return 0\n",
    "    \n",
    "        \n",
    "    model = SAMAF(embedding_dim=embedding_dimension).to(device)\n",
    "    optimizer = torch.optim.Adagrad(model.parameters(), lr=1e-2)\n",
    "\n",
    "    history = dict(train=[], validation=[])\n",
    "    \n",
    "    best_model_weights = copy.deepcopy(model.state_dict())\n",
    "    best_loss = 100000000.0\n",
    "    \n",
    "    start_epoch = 1\n",
    "    \n",
    "    if start_state:\n",
    "        model.load_state_dict(start_state[\"model_state_dict\"])\n",
    "        optimizer.load_state_dict(start_state[\"optimizer_state_dict\"])\n",
    "        start_epoch = start_state[\"epoch\"]\n",
    "        history = start_state[\"history\"]\n",
    "        best_model_weights = start_state[\"best_model_weights\"]\n",
    "        best_loss = start_state[\"best_loss\"]\n",
    "    \n",
    "    for epoch in range(start_epoch, epochs+1):\n",
    "        train_losses = []\n",
    "        model = model.train()\n",
    "        for i, (_, seq_true) in enumerate(train_dataset):\n",
    "            seq_true = seq_true.to(device)\n",
    "            optimizer.zero_grad()\n",
    "            \n",
    "            embeddings, seq_pred = model(seq_true)\n",
    "            \n",
    "            \n",
    "            loss = 1.0 * mseLoss(seq_pred, seq_true) + 1.0 * hashLoss(embeddings) + 1.0 * bitwiseEntropyLoss(embeddings) # criterion(seq_pred, seq_true).to(device)\n",
    "            loss.backward()\n",
    "            optimizer.step()\n",
    "            \n",
    "            train_losses.append(loss.item())\n",
    "            if i % 100 == 99:\n",
    "                print(\"Epoch {} batch {}: train loss {}\".format(epoch, i+1, loss.item()))\n",
    "        \n",
    "        validation_losses=[]\n",
    "        model = model.eval()\n",
    "        with torch.no_grad():\n",
    "            for i, (_, seq_true) in enumerate(validation_dataset):\n",
    "                seq_true = seq_true.to(device)\n",
    "                _, seq_pred = model(seq_true)\n",
    "                \n",
    "                loss = 1.0 * mseLoss(seq_pred, seq_true) + 1.0 * hashLoss(embeddings) + 1.0 * bitwiseEntropyLoss(embeddings)\n",
    "                validation_losses.append(loss.item())\n",
    "                if i % 100 == 99:\n",
    "                    print(\"Epoch {} batch {}: validation loss {}\".format(epoch, i+1, loss.item()))\n",
    "        \n",
    "        train_loss = np.mean(train_losses)\n",
    "        validation_loss = np.mean(validation_losses)\n",
    "        \n",
    "        history['train'].append(train_loss)\n",
    "        history['validation'].append(validation_loss)\n",
    "        \n",
    "        print(\"Epoch {}: train loss {}, validation loss {}\".format(epoch, train_loss, validation_loss))\n",
    "        torch.save({\n",
    "            \"epoch\": epoch,\n",
    "            \"model_state_dict\": model.state_dict(),\n",
    "            \"optimizer_state_dict\": optimizer.state_dict(),\n",
    "            \"train_loss\": train_loss,\n",
    "            \"validation_loss\": validation_loss,\n",
    "            \"history\": history,\n",
    "            \"best_model_weights\": best_model_weights,\n",
    "            \"best_loss\": best_loss\n",
    "        }, os.path.join(save_path, \"snapshot-{}.pytorch\".format(epoch)))\n",
    "        \n",
    "        if validation_loss < best_loss:\n",
    "            best_loss = validation_loss\n",
    "            best_model_weights = copy.deepcopy(model.state_dict())\n",
    "            \n",
    "        x = [*range(1, len(history['train'])+1)]\n",
    "        plt.clf()\n",
    "        plt.plot(x, history['train'], label=\"Train Loss\")\n",
    "        plt.plot(x, history['validation'], label=\"Validation Loss\")\n",
    "        plt.xlabel('Epoch')\n",
    "        plt.ylabel('Loss')\n",
    "        plt.title(\"Model Performance upto epoch {}\".format(epoch))\n",
    "        plt.legend()\n",
    "        plt.savefig(os.path.join(save_path, \"model-performance-{}.png\".format(epoch)))\n",
    "    \n",
    "    return best_model_weights, history"
   ]
  },
  {
   "cell_type": "code",
   "execution_count": null,
   "metadata": {
    "tags": []
   },
   "outputs": [],
   "source": [
    "# test_dataset = SinhalaSongsDataset(root_dir=\"/home/pasinducw/Downloads/Research-Datasets/Sinhala-Songs/features\", trim_seconds=40, test=True)\n",
    "# dataloader = DataLoader(test_dataset, batch_size=128, shuffle=False)\n",
    "\n",
    "# (song_id, mfccs) = iter(dataloader).next()\n",
    "# print(song_id.shape)\n",
    "# print(mfccs.shape)\n",
    "\n",
    "# transformed = mfccs.view(-1, 1, 100, 13).squeeze(1)\n",
    "# print(transformed.shape)\n",
    "\n",
    "# draw_mfccs(transformed[50], transformed[51])\n",
    "# draw_mfccs(mfccs[1][10], mfccs[1][11])\n",
    "\n",
    "# model = SAMAF()\n",
    "# embeddings, decoder_outputs = model(mfccs)\n",
    "\n",
    "# print(\"Input shape \", mfccs.shape)\n",
    "# print(\"Embeddings \", embeddings.shape)\n",
    "# print(\"Decoder outputs \", decoder_outputs.shape)\n",
    "\n",
    "# torch.nn.functional.mse_loss(decoder_outputs, mfccs)"
   ]
  },
  {
   "cell_type": "code",
   "execution_count": null,
   "metadata": {},
   "outputs": [],
   "source": [
    "# Dataset tests\n",
    "train_dataset = SinhalaSongsDataset(root_dir=\"/home/pasinducw/Downloads/Research-Datasets/Sinhala-Songs/features\", trim_seconds=40)\n",
    "train_dataloader = torch.utils.data.DataLoader(train_dataset, batch_size=256, shuffle=False)\n",
    "\n",
    "validation_dataset = SinhalaSongsDataset(root_dir=\"/home/pasinducw/Downloads/Research-Datasets/Sinhala-Songs/features\", trim_seconds=40, validation=True)\n",
    "validation_dataloader = torch.utils.data.DataLoader(validation_dataset, batch_size=256, shuffle=False)\n",
    "\n",
    "device = torch.device(\"cpu\")\n",
    "best_model, history = train_model(train_dataloader, validation_dataloader, 50, device, 256, \"/home/pasinducw/Documents/research/src/samaf/data/L1-D256-B256-E50-EXP1\")\n"
   ]
  },
  {
   "cell_type": "code",
   "execution_count": 52,
   "metadata": {},
   "outputs": [
    {
     "name": "stdout",
     "output_type": "stream",
     "text": [
      "torch.Size([1, 100, 100, 13]) torch.Size([1, 100, 100, 13])\n"
     ]
    },
    {
     "data": {
      "image/png": "[encoded data removed]",
      "text/plain": [
       "<Figure size 432x288 with 3 Axes>"
      ]
     },
     "metadata": {
      "needs_background": "light"
     },
     "output_type": "display_data"
    }
   ],
   "source": [
    "    device = torch.device(\"cpu\")\n",
    "    checkpoint = torch.load(\"../data/L1-D196-B20-E100-EXP2/snapshot-3.pytorch\", map_location=device)\n",
    "    test_model = SAMAF(embedding_dim=196)\n",
    "    test_model.load_state_dict(checkpoint['best_model_weights'])\n",
    "    test_dataloader = torch.utils.data.DataLoader(SinhalaSongsDataset(root_dir=\"/home/pasinducw/Downloads/Research-Datasets/Sinhala-Songs/features\", trim_seconds=10, test=True), shuffle=True)\n",
    "    with torch.no_grad():\n",
    "        _, mfccs = iter(test_dataloader).next()\n",
    "        embeddings, seq_pred = test_model(mfccs)\n",
    "        print(mfccs.shape, seq_pred.shape)\n",
    "        draw_mfccs(mfccs[0, 0], seq_pred[0,0])\n",
    "#         draw_mfccs(mfccs[0,1], seq_pred[0,1])"
   ]
  },
  {
   "cell_type": "code",
   "execution_count": null,
   "metadata": {},
   "outputs": [],
   "source": [
    "a = torch.randn(3,3)\n",
    "b = lambda v: v if 0 <= v <= 0.55 else 0\n",
    "c = torch.vmap(b)"
   ]
  }
 ],
 "metadata": {
  "kernelspec": {
   "display_name": "Python 3 (ipykernel)",
   "language": "python",
   "name": "python3"
  },
  "language_info": {
   "codemirror_mode": {
    "name": "ipython",
    "version": 3
   },
   "file_extension": ".py",
   "mimetype": "text/x-python",
   "name": "python",
   "nbconvert_exporter": "python",
   "pygments_lexer": "ipython3",
   "version": "3.9.6"
  }
 },
 "nbformat": 4,
 "nbformat_minor": 4
}
